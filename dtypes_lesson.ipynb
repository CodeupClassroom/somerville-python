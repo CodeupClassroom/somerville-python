{
 "cells": [
  {
   "cell_type": "markdown",
   "id": "64228393",
   "metadata": {},
   "source": [
    "### Datatypes\n",
    "0. Int\n",
    "0. Float\n",
    "0. String\n",
    "0. Boolean\n",
    "0. List\n",
    "0. Dictionaries"
   ]
  },
  {
   "cell_type": "code",
   "execution_count": 1,
   "id": "4e95e44a",
   "metadata": {},
   "outputs": [],
   "source": [
    "my_int = 6"
   ]
  },
  {
   "cell_type": "markdown",
   "id": "67532a43",
   "metadata": {},
   "source": [
    "Use built-in type function to show type of variable."
   ]
  },
  {
   "cell_type": "code",
   "execution_count": 2,
   "id": "c4cf31c9",
   "metadata": {},
   "outputs": [
    {
     "data": {
      "text/plain": [
       "int"
      ]
     },
     "execution_count": 2,
     "metadata": {},
     "output_type": "execute_result"
    }
   ],
   "source": [
    "type(my_int)"
   ]
  },
  {
   "cell_type": "code",
   "execution_count": 3,
   "id": "febf21a2",
   "metadata": {},
   "outputs": [],
   "source": [
    "my_int = my_int - 2"
   ]
  },
  {
   "cell_type": "code",
   "execution_count": 4,
   "id": "3248172e",
   "metadata": {},
   "outputs": [
    {
     "data": {
      "text/plain": [
       "4"
      ]
     },
     "execution_count": 4,
     "metadata": {},
     "output_type": "execute_result"
    }
   ],
   "source": [
    "my_int"
   ]
  },
  {
   "cell_type": "code",
   "execution_count": 5,
   "id": "e61d2528",
   "metadata": {},
   "outputs": [
    {
     "data": {
      "text/plain": [
       "5"
      ]
     },
     "execution_count": 5,
     "metadata": {},
     "output_type": "execute_result"
    }
   ],
   "source": [
    "my_int += 1\n",
    "my_int"
   ]
  },
  {
   "cell_type": "code",
   "execution_count": 6,
   "id": "e558b39b",
   "metadata": {},
   "outputs": [
    {
     "data": {
      "text/plain": [
       "float"
      ]
     },
     "execution_count": 6,
     "metadata": {},
     "output_type": "execute_result"
    }
   ],
   "source": [
    "my_int = my_int - 0.5\n",
    "type(my_int)"
   ]
  },
  {
   "cell_type": "code",
   "execution_count": 7,
   "id": "1b1b2e2e",
   "metadata": {},
   "outputs": [
    {
     "data": {
      "text/plain": [
       "False"
      ]
     },
     "execution_count": 7,
     "metadata": {},
     "output_type": "execute_result"
    }
   ],
   "source": [
    "my_int > 6"
   ]
  },
  {
   "cell_type": "code",
   "execution_count": 9,
   "id": "6ac37043",
   "metadata": {},
   "outputs": [
    {
     "data": {
      "text/plain": [
       "False"
      ]
     },
     "execution_count": 9,
     "metadata": {},
     "output_type": "execute_result"
    }
   ],
   "source": [
    "my_int < 4.5"
   ]
  },
  {
   "cell_type": "code",
   "execution_count": 10,
   "id": "69179035",
   "metadata": {},
   "outputs": [
    {
     "data": {
      "text/plain": [
       "22.5"
      ]
     },
     "execution_count": 10,
     "metadata": {},
     "output_type": "execute_result"
    }
   ],
   "source": [
    "my_int * 5"
   ]
  },
  {
   "cell_type": "code",
   "execution_count": 11,
   "id": "26bb557c",
   "metadata": {},
   "outputs": [
    {
     "data": {
      "text/plain": [
       "2.25"
      ]
     },
     "execution_count": 11,
     "metadata": {},
     "output_type": "execute_result"
    }
   ],
   "source": [
    "my_int / 2"
   ]
  },
  {
   "cell_type": "code",
   "execution_count": 12,
   "id": "2cc6efdb",
   "metadata": {},
   "outputs": [
    {
     "data": {
      "text/plain": [
       "0.5"
      ]
     },
     "execution_count": 12,
     "metadata": {},
     "output_type": "execute_result"
    }
   ],
   "source": [
    "my_int % 2"
   ]
  },
  {
   "cell_type": "code",
   "execution_count": 13,
   "id": "02cd2b66",
   "metadata": {},
   "outputs": [
    {
     "data": {
      "text/plain": [
       "2.0"
      ]
     },
     "execution_count": 13,
     "metadata": {},
     "output_type": "execute_result"
    }
   ],
   "source": [
    "my_int // 2"
   ]
  },
  {
   "cell_type": "code",
   "execution_count": 14,
   "id": "8ab2f44f",
   "metadata": {},
   "outputs": [
    {
     "data": {
      "text/plain": [
       "True"
      ]
     },
     "execution_count": 14,
     "metadata": {},
     "output_type": "execute_result"
    }
   ],
   "source": [
    "4 + 6 < 5 + 7"
   ]
  },
  {
   "cell_type": "code",
   "execution_count": 15,
   "id": "dc3eea29",
   "metadata": {},
   "outputs": [
    {
     "data": {
      "text/plain": [
       "11"
      ]
     },
     "execution_count": 15,
     "metadata": {},
     "output_type": "execute_result"
    }
   ],
   "source": [
    "4 * 2 + 3"
   ]
  },
  {
   "cell_type": "code",
   "execution_count": 16,
   "id": "a01dcf30",
   "metadata": {},
   "outputs": [
    {
     "data": {
      "text/plain": [
       "20"
      ]
     },
     "execution_count": 16,
     "metadata": {},
     "output_type": "execute_result"
    }
   ],
   "source": [
    "4 * (2 + 3)"
   ]
  },
  {
   "cell_type": "markdown",
   "id": "d46b5ded",
   "metadata": {},
   "source": [
    "### Boolean values\n",
    "True and False"
   ]
  },
  {
   "cell_type": "code",
   "execution_count": 17,
   "id": "5e57888c",
   "metadata": {},
   "outputs": [
    {
     "data": {
      "text/plain": [
       "True"
      ]
     },
     "execution_count": 17,
     "metadata": {},
     "output_type": "execute_result"
    }
   ],
   "source": [
    "True and True"
   ]
  },
  {
   "cell_type": "code",
   "execution_count": 18,
   "id": "c9afc83b",
   "metadata": {},
   "outputs": [
    {
     "data": {
      "text/plain": [
       "False"
      ]
     },
     "execution_count": 18,
     "metadata": {},
     "output_type": "execute_result"
    }
   ],
   "source": [
    "True and False"
   ]
  },
  {
   "cell_type": "code",
   "execution_count": 19,
   "id": "861791cb",
   "metadata": {},
   "outputs": [
    {
     "data": {
      "text/plain": [
       "True"
      ]
     },
     "execution_count": 19,
     "metadata": {},
     "output_type": "execute_result"
    }
   ],
   "source": [
    "True or False"
   ]
  },
  {
   "cell_type": "code",
   "execution_count": 20,
   "id": "ee00a09e",
   "metadata": {},
   "outputs": [
    {
     "data": {
      "text/plain": [
       "False"
      ]
     },
     "execution_count": 20,
     "metadata": {},
     "output_type": "execute_result"
    }
   ],
   "source": [
    "False and False"
   ]
  },
  {
   "cell_type": "code",
   "execution_count": 22,
   "id": "766881ad",
   "metadata": {},
   "outputs": [],
   "source": [
    "if False:\n",
    "    \n",
    "    print('True!')"
   ]
  },
  {
   "cell_type": "code",
   "execution_count": 23,
   "id": "20a4ca31",
   "metadata": {},
   "outputs": [
    {
     "data": {
      "text/plain": [
       "2"
      ]
     },
     "execution_count": 23,
     "metadata": {},
     "output_type": "execute_result"
    }
   ],
   "source": [
    "True + True"
   ]
  },
  {
   "cell_type": "markdown",
   "id": "30466a5a",
   "metadata": {},
   "source": [
    "### Strings\n",
    "Text data"
   ]
  },
  {
   "cell_type": "code",
   "execution_count": 24,
   "id": "fc4d922b",
   "metadata": {},
   "outputs": [],
   "source": [
    "my_string = 'My text data.'"
   ]
  },
  {
   "cell_type": "code",
   "execution_count": 25,
   "id": "8f2c1d07",
   "metadata": {},
   "outputs": [
    {
     "data": {
      "text/plain": [
       "'\\nThis\\nis\\nmy\\nmulti-line\\nstring.\\n'"
      ]
     },
     "execution_count": 25,
     "metadata": {},
     "output_type": "execute_result"
    }
   ],
   "source": [
    "'''\n",
    "This\n",
    "is\n",
    "my\n",
    "multi-line\n",
    "string.\n",
    "'''"
   ]
  },
  {
   "cell_type": "code",
   "execution_count": 26,
   "id": "c61ec7f3",
   "metadata": {},
   "outputs": [
    {
     "data": {
      "text/plain": [
       "'My text data.'"
      ]
     },
     "execution_count": 26,
     "metadata": {},
     "output_type": "execute_result"
    }
   ],
   "source": [
    "my_string"
   ]
  },
  {
   "cell_type": "code",
   "execution_count": 27,
   "id": "9bba9c29",
   "metadata": {},
   "outputs": [
    {
     "data": {
      "text/plain": [
       "'My text data.My text data.My text data.My text data.My text data.'"
      ]
     },
     "execution_count": 27,
     "metadata": {},
     "output_type": "execute_result"
    }
   ],
   "source": [
    "my_string * 5"
   ]
  },
  {
   "cell_type": "code",
   "execution_count": 28,
   "id": "b61853ca",
   "metadata": {},
   "outputs": [
    {
     "data": {
      "text/plain": [
       "'My text data. My text data.'"
      ]
     },
     "execution_count": 28,
     "metadata": {},
     "output_type": "execute_result"
    }
   ],
   "source": [
    "my_string + ' ' + my_string"
   ]
  },
  {
   "cell_type": "code",
   "execution_count": 30,
   "id": "5e4b270f",
   "metadata": {},
   "outputs": [
    {
     "data": {
      "text/plain": [
       "True"
      ]
     },
     "execution_count": 30,
     "metadata": {},
     "output_type": "execute_result"
    }
   ],
   "source": [
    "len(my_string) > 10"
   ]
  },
  {
   "cell_type": "code",
   "execution_count": 35,
   "id": "23d6f515",
   "metadata": {},
   "outputs": [
    {
     "data": {
      "text/plain": [
       "'MY TEXT DATA.'"
      ]
     },
     "execution_count": 35,
     "metadata": {},
     "output_type": "execute_result"
    }
   ],
   "source": [
    "my_upper_string = my_string.upper()\n",
    "my_upper_string"
   ]
  },
  {
   "cell_type": "code",
   "execution_count": 36,
   "id": "74f2a2bf",
   "metadata": {},
   "outputs": [
    {
     "data": {
      "text/plain": [
       "'My text data.'"
      ]
     },
     "execution_count": 36,
     "metadata": {},
     "output_type": "execute_result"
    }
   ],
   "source": [
    "my_string"
   ]
  },
  {
   "cell_type": "code",
   "execution_count": 32,
   "id": "5d232c3c",
   "metadata": {},
   "outputs": [
    {
     "data": {
      "text/plain": [
       "'my text data.'"
      ]
     },
     "execution_count": 32,
     "metadata": {},
     "output_type": "execute_result"
    }
   ],
   "source": [
    "my_string.lower()"
   ]
  },
  {
   "cell_type": "code",
   "execution_count": 33,
   "id": "77c4d985",
   "metadata": {},
   "outputs": [
    {
     "data": {
      "text/plain": [
       "'My text data!!!!!!!'"
      ]
     },
     "execution_count": 33,
     "metadata": {},
     "output_type": "execute_result"
    }
   ],
   "source": [
    "my_string.replace('.', '!!!!!!!')"
   ]
  },
  {
   "cell_type": "code",
   "execution_count": 34,
   "id": "44c9bcae",
   "metadata": {},
   "outputs": [
    {
     "data": {
      "text/plain": [
       "'My text data.'"
      ]
     },
     "execution_count": 34,
     "metadata": {},
     "output_type": "execute_result"
    }
   ],
   "source": [
    "my_string"
   ]
  },
  {
   "cell_type": "code",
   "execution_count": 37,
   "id": "44ead4f9",
   "metadata": {},
   "outputs": [
    {
     "data": {
      "text/plain": [
       "'MY TEXT DATA!!!!!!!'"
      ]
     },
     "execution_count": 37,
     "metadata": {},
     "output_type": "execute_result"
    }
   ],
   "source": [
    "my_string.upper().replace('.', '!!!!!!!')"
   ]
  },
  {
   "cell_type": "code",
   "execution_count": 41,
   "id": "8af51de7",
   "metadata": {},
   "outputs": [
    {
     "data": {
      "text/plain": [
       "['My', 'text', 'data.']"
      ]
     },
     "execution_count": 41,
     "metadata": {},
     "output_type": "execute_result"
    }
   ],
   "source": [
    "my_list = my_string.split()\n",
    "my_list"
   ]
  },
  {
   "cell_type": "code",
   "execution_count": 46,
   "id": "688f9dfd",
   "metadata": {},
   "outputs": [
    {
     "data": {
      "text/plain": [
       "'My text data.'"
      ]
     },
     "execution_count": 46,
     "metadata": {},
     "output_type": "execute_result"
    }
   ],
   "source": [
    "' '.join(my_list)"
   ]
  },
  {
   "cell_type": "code",
   "execution_count": 48,
   "id": "034819f5",
   "metadata": {},
   "outputs": [
    {
     "name": "stdout",
     "output_type": "stream",
     "text": [
      "The contents of my variable are: My text data.\n"
     ]
    }
   ],
   "source": [
    "print(f'The contents of my variable are: {my_string}')"
   ]
  },
  {
   "cell_type": "markdown",
   "id": "f71c319a",
   "metadata": {},
   "source": [
    "### Lists"
   ]
  },
  {
   "cell_type": "code",
   "execution_count": 49,
   "id": "d004bf04",
   "metadata": {},
   "outputs": [
    {
     "data": {
      "text/plain": [
       "[1, 2, 3, 4, 5]"
      ]
     },
     "execution_count": 49,
     "metadata": {},
     "output_type": "execute_result"
    }
   ],
   "source": [
    "my_list = [1, 2, 3, 4, 5]\n",
    "my_list"
   ]
  },
  {
   "cell_type": "code",
   "execution_count": 52,
   "id": "dee20906",
   "metadata": {},
   "outputs": [
    {
     "data": {
      "text/plain": [
       "[2, 4, 6, 8, 10, 12, 14, 16, 18, 20]"
      ]
     },
     "execution_count": 52,
     "metadata": {},
     "output_type": "execute_result"
    }
   ],
   "source": [
    "list_two = list(range(2, 22, 2))\n",
    "list_two"
   ]
  },
  {
   "cell_type": "code",
   "execution_count": 53,
   "id": "55b72206",
   "metadata": {},
   "outputs": [],
   "source": [
    "list_two.append(22)"
   ]
  },
  {
   "cell_type": "code",
   "execution_count": 54,
   "id": "d6f5623c",
   "metadata": {},
   "outputs": [
    {
     "data": {
      "text/plain": [
       "[2, 4, 6, 8, 10, 12, 14, 16, 18, 20, 22]"
      ]
     },
     "execution_count": 54,
     "metadata": {},
     "output_type": "execute_result"
    }
   ],
   "source": [
    "list_two"
   ]
  },
  {
   "cell_type": "code",
   "execution_count": 55,
   "id": "cee8eb77",
   "metadata": {},
   "outputs": [
    {
     "data": {
      "text/plain": [
       "22"
      ]
     },
     "execution_count": 55,
     "metadata": {},
     "output_type": "execute_result"
    }
   ],
   "source": [
    "list_two.pop()"
   ]
  },
  {
   "cell_type": "code",
   "execution_count": 56,
   "id": "2d5750d3",
   "metadata": {},
   "outputs": [
    {
     "data": {
      "text/plain": [
       "[2, 4, 6, 8, 10, 12, 14, 16, 18, 20]"
      ]
     },
     "execution_count": 56,
     "metadata": {},
     "output_type": "execute_result"
    }
   ],
   "source": [
    "list_two"
   ]
  },
  {
   "cell_type": "code",
   "execution_count": 57,
   "id": "25389749",
   "metadata": {},
   "outputs": [],
   "source": [
    "list_two.remove(10)"
   ]
  },
  {
   "cell_type": "code",
   "execution_count": 58,
   "id": "7cc21a9e",
   "metadata": {},
   "outputs": [
    {
     "data": {
      "text/plain": [
       "[2, 4, 6, 8, 12, 14, 16, 18, 20]"
      ]
     },
     "execution_count": 58,
     "metadata": {},
     "output_type": "execute_result"
    }
   ],
   "source": [
    "list_two"
   ]
  },
  {
   "cell_type": "code",
   "execution_count": 62,
   "id": "e3bc007b",
   "metadata": {},
   "outputs": [
    {
     "data": {
      "text/plain": [
       "2"
      ]
     },
     "execution_count": 62,
     "metadata": {},
     "output_type": "execute_result"
    }
   ],
   "source": [
    "list_two[0]"
   ]
  },
  {
   "cell_type": "code",
   "execution_count": 63,
   "id": "7da12f14",
   "metadata": {},
   "outputs": [
    {
     "data": {
      "text/plain": [
       "20"
      ]
     },
     "execution_count": 63,
     "metadata": {},
     "output_type": "execute_result"
    }
   ],
   "source": [
    "list_two[-1]"
   ]
  },
  {
   "cell_type": "code",
   "execution_count": 65,
   "id": "c3b2c722",
   "metadata": {},
   "outputs": [
    {
     "data": {
      "text/plain": [
       "[2, 4, 6, 8, 12, 14, 16, 18, 20]"
      ]
     },
     "execution_count": 65,
     "metadata": {},
     "output_type": "execute_result"
    }
   ],
   "source": [
    "list_two"
   ]
  },
  {
   "cell_type": "code",
   "execution_count": 64,
   "id": "073437a1",
   "metadata": {},
   "outputs": [
    {
     "data": {
      "text/plain": [
       "[12, 14, 16]"
      ]
     },
     "execution_count": 64,
     "metadata": {},
     "output_type": "execute_result"
    }
   ],
   "source": [
    "list_two[-5:-2]"
   ]
  },
  {
   "cell_type": "code",
   "execution_count": 66,
   "id": "61816f6e",
   "metadata": {},
   "outputs": [
    {
     "data": {
      "text/plain": [
       "[12, 14, 16, 18, 20]"
      ]
     },
     "execution_count": 66,
     "metadata": {},
     "output_type": "execute_result"
    }
   ],
   "source": [
    "list_two[-5:]"
   ]
  },
  {
   "cell_type": "markdown",
   "id": "73981195",
   "metadata": {},
   "source": [
    "### Dictionary"
   ]
  },
  {
   "cell_type": "code",
   "execution_count": 59,
   "id": "767cba1b",
   "metadata": {},
   "outputs": [
    {
     "data": {
      "text/plain": [
       "{'Adam': 'Instructor',\n",
       " 'Nikki': 'Instructor',\n",
       " 'Stephen': 'Placement',\n",
       " 'Leslie': 'Placement'}"
      ]
     },
     "execution_count": 59,
     "metadata": {},
     "output_type": "execute_result"
    }
   ],
   "source": [
    "codeup_staff = {'Adam': 'Instructor', 'Nikki': 'Instructor',\n",
    "                'Stephen': 'Placement', 'Leslie': 'Placement'}\n",
    "codeup_staff"
   ]
  },
  {
   "cell_type": "code",
   "execution_count": 60,
   "id": "d073dd22",
   "metadata": {},
   "outputs": [
    {
     "data": {
      "text/plain": [
       "'Placement'"
      ]
     },
     "execution_count": 60,
     "metadata": {},
     "output_type": "execute_result"
    }
   ],
   "source": [
    "codeup_staff['Stephen']"
   ]
  },
  {
   "cell_type": "code",
   "execution_count": 61,
   "id": "b28d969f",
   "metadata": {},
   "outputs": [
    {
     "data": {
      "text/plain": [
       "dict_keys(['Adam', 'Nikki', 'Stephen', 'Leslie'])"
      ]
     },
     "execution_count": 61,
     "metadata": {},
     "output_type": "execute_result"
    }
   ],
   "source": [
    "codeup_staff.keys()"
   ]
  },
  {
   "cell_type": "code",
   "execution_count": null,
   "id": "b9d6ce0f",
   "metadata": {},
   "outputs": [],
   "source": []
  }
 ],
 "metadata": {
  "kernelspec": {
   "display_name": "Python 3 (ipykernel)",
   "language": "python",
   "name": "python3"
  },
  "language_info": {
   "codemirror_mode": {
    "name": "ipython",
    "version": 3
   },
   "file_extension": ".py",
   "mimetype": "text/x-python",
   "name": "python",
   "nbconvert_exporter": "python",
   "pygments_lexer": "ipython3",
   "version": "3.9.12"
  }
 },
 "nbformat": 4,
 "nbformat_minor": 5
}
