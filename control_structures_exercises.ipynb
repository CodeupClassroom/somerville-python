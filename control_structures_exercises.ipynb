{
 "cells": [
  {
   "cell_type": "code",
   "execution_count": 1,
   "id": "9628c21b",
   "metadata": {},
   "outputs": [
    {
     "data": {
      "application/javascript": [
       "IPython.notebook.set_autosave_interval(0)"
      ]
     },
     "metadata": {},
     "output_type": "display_data"
    },
    {
     "name": "stdout",
     "output_type": "stream",
     "text": [
      "Autosave disabled\n"
     ]
    }
   ],
   "source": [
    "%autosave 0"
   ]
  },
  {
   "cell_type": "markdown",
   "id": "01eb2aeb",
   "metadata": {},
   "source": [
    "# 1\n",
    "\n",
    "Prompt the user for a day of the week, print out whether the day is Monday or not"
   ]
  },
  {
   "cell_type": "code",
   "execution_count": 2,
   "id": "36ff10aa",
   "metadata": {},
   "outputs": [
    {
     "name": "stdout",
     "output_type": "stream",
     "text": [
      "Enter the day of the week: monday\n",
      "It's Monday!\n"
     ]
    }
   ],
   "source": [
    "day_of_week = input('Enter the day of the week: ')\n",
    "\n",
    "if day_of_week.strip().lower() == 'monday':\n",
    "    \n",
    "    print('It\\'s Monday!')\n",
    "    \n",
    "else:\n",
    "    \n",
    "    print('Not Monday!')"
   ]
  },
  {
   "cell_type": "markdown",
   "id": "7419cfd5",
   "metadata": {},
   "source": [
    "Prompt the user for a day of the week, print out whether the day is a weekday or a weekend"
   ]
  },
  {
   "cell_type": "code",
   "execution_count": 3,
   "id": "eee9b90b",
   "metadata": {},
   "outputs": [
    {
     "name": "stdout",
     "output_type": "stream",
     "text": [
      "Enter the day of the week: sunday\n",
      "It's the weekend!\n"
     ]
    }
   ],
   "source": [
    "weekend_list = ['saturday', 'sunday']\n",
    "\n",
    "day_of_week = input('Enter the day of the week: ')\n",
    "\n",
    "if day_of_week.strip().lower() in weekend_list:\n",
    "    \n",
    "    print('It\\'s the weekend!')\n",
    "    \n",
    "else:\n",
    "    \n",
    "    print('Another weekday!')"
   ]
  },
  {
   "cell_type": "markdown",
   "id": "db16113c",
   "metadata": {},
   "source": [
    "Calculate a weekly paycheck, accounting for overtime pay. Create variables and make up values for:\n",
    "\n",
    "The number of hours worked in one week  \n",
    "The hourly rate"
   ]
  },
  {
   "cell_type": "code",
   "execution_count": 4,
   "id": "18880b85",
   "metadata": {},
   "outputs": [
    {
     "name": "stdout",
     "output_type": "stream",
     "text": [
      "1650.0\n"
     ]
    }
   ],
   "source": [
    "num_hours = 50\n",
    "rate = 30\n",
    "\n",
    "if num_hours <= 40:\n",
    "    \n",
    "    paycheck = num_hours * rate\n",
    "    \n",
    "    print(paycheck)\n",
    "    \n",
    "else:\n",
    "    \n",
    "    paycheck = 40 * rate + (num_hours - 40) * rate * 1.5\n",
    "    \n",
    "    print(paycheck)"
   ]
  },
  {
   "cell_type": "markdown",
   "id": "7b23dd45",
   "metadata": {},
   "source": [
    "# 2\n",
    "\n",
    "Create an integer variable i with a value of 5. \n",
    "\n",
    "Create a while loop that runs so long as i is less than or equal to 15. Each loop iteration, output the current value of i, then increment i by one."
   ]
  },
  {
   "cell_type": "code",
   "execution_count": 5,
   "id": "c9837e07",
   "metadata": {},
   "outputs": [
    {
     "name": "stdout",
     "output_type": "stream",
     "text": [
      "5\n",
      "6\n",
      "7\n",
      "8\n",
      "9\n",
      "10\n",
      "11\n",
      "12\n",
      "13\n",
      "14\n",
      "15\n"
     ]
    }
   ],
   "source": [
    "i = 5\n",
    "\n",
    "while i <= 15:\n",
    "    \n",
    "    print(i)\n",
    "    \n",
    "    i += 1"
   ]
  },
  {
   "cell_type": "markdown",
   "id": "ec5ccbe9",
   "metadata": {},
   "source": [
    "Create a while loop that will count by 2's starting with 0 and ending at 100. Follow each number with a new line."
   ]
  },
  {
   "cell_type": "code",
   "execution_count": 6,
   "id": "b830c8c2",
   "metadata": {},
   "outputs": [
    {
     "name": "stdout",
     "output_type": "stream",
     "text": [
      "0\n",
      "\n",
      "2\n",
      "\n",
      "4\n",
      "\n",
      "6\n",
      "\n",
      "8\n",
      "\n",
      "10\n",
      "\n",
      "12\n",
      "\n",
      "14\n",
      "\n",
      "16\n",
      "\n",
      "18\n",
      "\n",
      "20\n",
      "\n",
      "22\n",
      "\n",
      "24\n",
      "\n",
      "26\n",
      "\n",
      "28\n",
      "\n",
      "30\n",
      "\n",
      "32\n",
      "\n",
      "34\n",
      "\n",
      "36\n",
      "\n",
      "38\n",
      "\n",
      "40\n",
      "\n",
      "42\n",
      "\n",
      "44\n",
      "\n",
      "46\n",
      "\n",
      "48\n",
      "\n",
      "50\n",
      "\n",
      "52\n",
      "\n",
      "54\n",
      "\n",
      "56\n",
      "\n",
      "58\n",
      "\n",
      "60\n",
      "\n",
      "62\n",
      "\n",
      "64\n",
      "\n",
      "66\n",
      "\n",
      "68\n",
      "\n",
      "70\n",
      "\n",
      "72\n",
      "\n",
      "74\n",
      "\n",
      "76\n",
      "\n",
      "78\n",
      "\n",
      "80\n",
      "\n",
      "82\n",
      "\n",
      "84\n",
      "\n",
      "86\n",
      "\n",
      "88\n",
      "\n",
      "90\n",
      "\n",
      "92\n",
      "\n",
      "94\n",
      "\n",
      "96\n",
      "\n",
      "98\n",
      "\n",
      "100\n",
      "\n"
     ]
    }
   ],
   "source": [
    "i = 0\n",
    "\n",
    "while i <= 100:\n",
    "    \n",
    "    print(i)\n",
    "    \n",
    "    print()\n",
    "    \n",
    "    i += 2"
   ]
  },
  {
   "cell_type": "markdown",
   "id": "9d4deb29",
   "metadata": {},
   "source": [
    "Create a while loop that starts at 2, and displays the number squared on each line while the number is less than 1,000,000."
   ]
  },
  {
   "cell_type": "code",
   "execution_count": 7,
   "id": "93e704fc",
   "metadata": {},
   "outputs": [
    {
     "name": "stdout",
     "output_type": "stream",
     "text": [
      "2\n",
      "4\n",
      "16\n",
      "256\n",
      "65536\n"
     ]
    }
   ],
   "source": [
    "i = 2\n",
    "\n",
    "while i < 1_000_000:\n",
    "    \n",
    "    print(i)\n",
    "    \n",
    "    i = i ** 2"
   ]
  },
  {
   "cell_type": "markdown",
   "id": "ae76f16c",
   "metadata": {},
   "source": [
    "Write a while loop that uses print to create the output shown below."
   ]
  },
  {
   "cell_type": "code",
   "execution_count": 8,
   "id": "1adba848",
   "metadata": {},
   "outputs": [
    {
     "name": "stdout",
     "output_type": "stream",
     "text": [
      "100\n",
      "95\n",
      "90\n",
      "85\n",
      "80\n",
      "75\n",
      "70\n",
      "65\n",
      "60\n",
      "55\n",
      "50\n",
      "45\n",
      "40\n",
      "35\n",
      "30\n",
      "25\n",
      "20\n",
      "15\n",
      "10\n",
      "5\n"
     ]
    }
   ],
   "source": [
    "i = 100\n",
    "\n",
    "while i > 0:\n",
    "    \n",
    "    print(i)\n",
    "    \n",
    "    i -= 5"
   ]
  },
  {
   "cell_type": "markdown",
   "id": "2b279f62",
   "metadata": {},
   "source": [
    "Write some code using a for loop that prompts the user for a number, then shows a multiplication table up through 10 for that number."
   ]
  },
  {
   "cell_type": "code",
   "execution_count": 9,
   "id": "468be5d9",
   "metadata": {},
   "outputs": [
    {
     "name": "stdout",
     "output_type": "stream",
     "text": [
      "Enter an integer: 5\n",
      "5 x 1 = 5\n",
      "5 x 2 = 10\n",
      "5 x 3 = 15\n",
      "5 x 4 = 20\n",
      "5 x 5 = 25\n",
      "5 x 6 = 30\n",
      "5 x 7 = 35\n",
      "5 x 8 = 40\n",
      "5 x 9 = 45\n",
      "5 x 10 = 50\n"
     ]
    }
   ],
   "source": [
    "your_num = int(input('Enter an integer: '))\n",
    "\n",
    "for i in range(1, 11):\n",
    "    \n",
    "    print(f'{your_num} x {i} = {your_num * i}')"
   ]
  },
  {
   "cell_type": "markdown",
   "id": "ed388c18",
   "metadata": {},
   "source": [
    "Create a for loop that uses print to create the output shown below."
   ]
  },
  {
   "cell_type": "code",
   "execution_count": 10,
   "id": "e842c5c8",
   "metadata": {},
   "outputs": [
    {
     "name": "stdout",
     "output_type": "stream",
     "text": [
      "1\n",
      "22\n",
      "333\n",
      "4444\n",
      "55555\n",
      "666666\n",
      "7777777\n",
      "88888888\n",
      "999999999\n"
     ]
    }
   ],
   "source": [
    "for i in range(1, 10):\n",
    "    \n",
    "    print(f'{i}' * i)"
   ]
  },
  {
   "cell_type": "markdown",
   "id": "94f5f2bd",
   "metadata": {},
   "source": [
    "Write a program that prompts the user for a positive integer. Next write a loop that prints out the numbers from the number the user entered down to 1."
   ]
  },
  {
   "cell_type": "code",
   "execution_count": 11,
   "id": "da560298",
   "metadata": {},
   "outputs": [
    {
     "name": "stdout",
     "output_type": "stream",
     "text": [
      "Enter a positive integer: 5\n",
      "5\n",
      "4\n",
      "3\n",
      "2\n",
      "1\n"
     ]
    }
   ],
   "source": [
    "your_num = int(input('Enter a positive integer: '))\n",
    "\n",
    "while True:\n",
    "    \n",
    "    if your_num <= 0:\n",
    "        \n",
    "        break\n",
    "    \n",
    "    print(your_num)\n",
    "    \n",
    "    your_num -= 1"
   ]
  },
  {
   "cell_type": "markdown",
   "id": "a6148410",
   "metadata": {},
   "source": [
    "The input function can be used to prompt for input and use that input in your python code. Prompt the user to enter a positive number and write a loop that counts from 0 to that number. (Hints: note that the input function returns a string, so you'll need to convert this to a numeric type.)"
   ]
  },
  {
   "cell_type": "code",
   "execution_count": 12,
   "id": "db09a269",
   "metadata": {},
   "outputs": [
    {
     "name": "stdout",
     "output_type": "stream",
     "text": [
      "Enter a positive integer: 5\n",
      "0\n",
      "1\n",
      "2\n",
      "3\n",
      "4\n",
      "5\n"
     ]
    }
   ],
   "source": [
    "your_num = int(input('Enter a positive integer: '))\n",
    "\n",
    "i = 0\n",
    "\n",
    "while True:\n",
    "    \n",
    "    print(i)\n",
    "    \n",
    "    if i == your_num:\n",
    "        \n",
    "        break\n",
    "        \n",
    "    i += 1"
   ]
  },
  {
   "cell_type": "markdown",
   "id": "758bd064",
   "metadata": {},
   "source": [
    "Prompt the user for an odd number between 1 and 50. Use a loop and a break statement to continue prompting the user if they enter invalid input. (Hint: use the isdigit method on strings to determine this). Use a loop and the continue statement to output all the odd numbers between 1 and 50, except for the number the user entered."
   ]
  },
  {
   "cell_type": "code",
   "execution_count": 13,
   "id": "e62bc7df",
   "metadata": {},
   "outputs": [
    {
     "name": "stdout",
     "output_type": "stream",
     "text": [
      "Number to skip is: 5\n",
      "\n",
      "Here is an odd number: 1\n",
      "Here is an odd number: 3\n",
      "Yikes! Skipping number: 5\n",
      "Here is an odd number: 7\n",
      "Here is an odd number: 9\n",
      "Here is an odd number: 11\n",
      "Here is an odd number: 13\n",
      "Here is an odd number: 15\n",
      "Here is an odd number: 17\n",
      "Here is an odd number: 19\n",
      "Here is an odd number: 21\n",
      "Here is an odd number: 23\n",
      "Here is an odd number: 25\n",
      "Here is an odd number: 27\n",
      "Here is an odd number: 29\n",
      "Here is an odd number: 31\n",
      "Here is an odd number: 33\n",
      "Here is an odd number: 35\n",
      "Here is an odd number: 37\n",
      "Here is an odd number: 39\n",
      "Here is an odd number: 41\n",
      "Here is an odd number: 43\n",
      "Here is an odd number: 45\n",
      "Here is an odd number: 47\n",
      "Here is an odd number: 49\n"
     ]
    }
   ],
   "source": [
    "while True:\n",
    "    \n",
    "    your_num = input('Number to skip is: ')\n",
    "    \n",
    "    if your_num.isdigit() and int(your_num) % 2 == 1:\n",
    "        \n",
    "        your_num = int(your_num)\n",
    "        \n",
    "        break\n",
    "\n",
    "print()\n",
    "\n",
    "i = 1\n",
    "\n",
    "while i <= 50:\n",
    "    \n",
    "    if i == your_num:\n",
    "        \n",
    "        print(f'Yikes! Skipping number: {your_num}')\n",
    "        \n",
    "        i += 2\n",
    "        \n",
    "        continue\n",
    "        \n",
    "    print(f'Here is an odd number: {i}')\n",
    "    \n",
    "    i += 2"
   ]
  },
  {
   "cell_type": "markdown",
   "id": "99e4b91e",
   "metadata": {},
   "source": [
    "# 3\n",
    "\n",
    "One of the most common interview questions for entry-level programmers is the FizzBuzz test. Developed by Imran Ghory, the test is designed to test basic looping and conditional logic skills.\n",
    "\n",
    "Write a program that prints the numbers from 1 to 100.  \n",
    "For multiples of three print \"Fizz\" instead of the number  \n",
    "For the multiples of five print \"Buzz\".  \n",
    "For numbers which are multiples of both three and five print \"FizzBuzz\"."
   ]
  },
  {
   "cell_type": "code",
   "execution_count": 14,
   "id": "08c81bfa",
   "metadata": {},
   "outputs": [
    {
     "name": "stdout",
     "output_type": "stream",
     "text": [
      "1\n",
      "2\n",
      "Fizz\n",
      "4\n",
      "Buzz\n",
      "Fizz\n",
      "7\n",
      "8\n",
      "Fizz\n",
      "Buzz\n",
      "11\n",
      "Fizz\n",
      "13\n",
      "14\n",
      "FizzBuzz\n",
      "16\n",
      "17\n",
      "Fizz\n",
      "19\n",
      "Buzz\n",
      "Fizz\n",
      "22\n",
      "23\n",
      "Fizz\n",
      "Buzz\n",
      "26\n",
      "Fizz\n",
      "28\n",
      "29\n",
      "FizzBuzz\n",
      "31\n",
      "32\n",
      "Fizz\n",
      "34\n",
      "Buzz\n",
      "Fizz\n",
      "37\n",
      "38\n",
      "Fizz\n",
      "Buzz\n",
      "41\n",
      "Fizz\n",
      "43\n",
      "44\n",
      "FizzBuzz\n",
      "46\n",
      "47\n",
      "Fizz\n",
      "49\n",
      "Buzz\n",
      "Fizz\n",
      "52\n",
      "53\n",
      "Fizz\n",
      "Buzz\n",
      "56\n",
      "Fizz\n",
      "58\n",
      "59\n",
      "FizzBuzz\n",
      "61\n",
      "62\n",
      "Fizz\n",
      "64\n",
      "Buzz\n",
      "Fizz\n",
      "67\n",
      "68\n",
      "Fizz\n",
      "Buzz\n",
      "71\n",
      "Fizz\n",
      "73\n",
      "74\n",
      "FizzBuzz\n",
      "76\n",
      "77\n",
      "Fizz\n",
      "79\n",
      "Buzz\n",
      "Fizz\n",
      "82\n",
      "83\n",
      "Fizz\n",
      "Buzz\n",
      "86\n",
      "Fizz\n",
      "88\n",
      "89\n",
      "FizzBuzz\n",
      "91\n",
      "92\n",
      "Fizz\n",
      "94\n",
      "Buzz\n",
      "Fizz\n",
      "97\n",
      "98\n",
      "Fizz\n",
      "Buzz\n"
     ]
    }
   ],
   "source": [
    "i = 1\n",
    "\n",
    "while i <= 100:\n",
    "    \n",
    "    if i % 15 == 0:\n",
    "        \n",
    "        print('FizzBuzz')\n",
    "        \n",
    "    elif i % 5 == 0:\n",
    "        \n",
    "        print('Buzz')\n",
    "        \n",
    "    elif i % 3 == 0:\n",
    "        \n",
    "        print('Fizz')\n",
    "        \n",
    "    else:\n",
    "        \n",
    "        print(i)\n",
    "        \n",
    "    i += 1    "
   ]
  },
  {
   "cell_type": "markdown",
   "id": "c9be6bb8",
   "metadata": {},
   "source": [
    "# 4\n",
    "\n",
    "Display a table of powers.\n",
    "\n",
    "Prompt the user to enter an integer  \n",
    "Display a table of squares and cubes from 1 to the value entered  \n",
    "Ask if the user wants to continue  \n",
    "Assume that the user will enter valid data  \n",
    "Only continue if the user agrees to  "
   ]
  },
  {
   "cell_type": "code",
   "execution_count": 15,
   "id": "92be6f38",
   "metadata": {},
   "outputs": [
    {
     "name": "stdout",
     "output_type": "stream",
     "text": [
      "What number would you like to go up to? 5\n",
      "\n",
      "Here is your table!\n",
      "\n",
      "number | squared | cubed\n",
      "------ | ------- | -----\n",
      "1 | 1 | 1\n",
      "2 | 4 | 8\n",
      "3 | 9 | 27\n",
      "4 | 16 | 64\n",
      "5 | 25 | 125\n",
      "Would you like to continue? (Y/N): n\n",
      "Have a great day!\n"
     ]
    }
   ],
   "source": [
    "while True:\n",
    "\n",
    "    your_num = int(input('What number would you like to go up to? '))\n",
    "    print()\n",
    "    print('Here is your table!')\n",
    "    print()\n",
    "    print('number | squared | cubed')\n",
    "    print('------ | ------- | -----')\n",
    "    \n",
    "    for i in range(1, your_num + 1):\n",
    "        \n",
    "        print(f'{i} | {i ** 2} | {i ** 3}')\n",
    "        \n",
    "    answer = input('Would you like to continue? (Y/N): ')\n",
    "    \n",
    "    if answer.strip().lower() == 'n':\n",
    "        \n",
    "        print('Have a great day!')\n",
    "        \n",
    "        break"
   ]
  },
  {
   "cell_type": "markdown",
   "id": "28f124f5",
   "metadata": {},
   "source": [
    "# 5\n",
    "\n",
    "Convert given number grades into letter grades.\n",
    "\n",
    "Prompt the user for a numerical grade from 0 to 100  \n",
    "Display the corresponding letter grade  \n",
    "Prompt the user to continue  \n",
    "Assume that the user will enter valid integers for the grades  \n",
    "The application should only continue if the user agrees to  \n",
    "Grade Ranges:\n",
    "\n",
    "A : 100 - 88  \n",
    "B : 87 - 80  \n",
    "C : 79 - 67  \n",
    "D : 66 - 60  \n",
    "F : 59 - 0"
   ]
  },
  {
   "cell_type": "code",
   "execution_count": 16,
   "id": "787f50c2",
   "metadata": {},
   "outputs": [
    {
     "name": "stdout",
     "output_type": "stream",
     "text": [
      "Enter your numerical grade from 0 to 100: 55\n",
      "\n",
      "F\n",
      "\n",
      "Would you like to continue? (Y/N): n\n",
      "\n",
      "Have a great day!\n"
     ]
    }
   ],
   "source": [
    "while True:\n",
    "    \n",
    "    your_grade = int(input('Enter your numerical grade from 0 to 100: '))\n",
    "    \n",
    "    print()\n",
    "    \n",
    "    if your_grade >= 88:\n",
    "        \n",
    "        print('A')\n",
    "        \n",
    "    elif your_grade >= 80:\n",
    "        \n",
    "        print('B')\n",
    "        \n",
    "    elif your_grade >= 67:\n",
    "        \n",
    "        print('C')\n",
    "        \n",
    "    elif your_grade >= 60:\n",
    "        \n",
    "        print('D')\n",
    "        \n",
    "    else:\n",
    "        \n",
    "        print('F')  \n",
    "        \n",
    "    print()    \n",
    "        \n",
    "    answer = input('Would you like to continue? (Y/N): ')\n",
    "    \n",
    "    print()\n",
    "    \n",
    "    if answer.strip().lower() == 'n':\n",
    "        \n",
    "        print('Have a great day!')\n",
    "        \n",
    "        break"
   ]
  },
  {
   "cell_type": "markdown",
   "id": "b2204e6c",
   "metadata": {},
   "source": [
    "# 6\n",
    "\n",
    "Create a list of dictionaries where each dictionary represents a book that you have read. Each dictionary in the list should have the keys title, author, and genre. Loop through the list and print out information about each book.\n",
    "\n",
    "Prompt the user to enter a genre, then loop through your books list and print out the titles of all the books in that genre."
   ]
  },
  {
   "cell_type": "code",
   "execution_count": 17,
   "id": "9db36ed7",
   "metadata": {},
   "outputs": [
    {
     "name": "stdout",
     "output_type": "stream",
     "text": [
      "Title:  The Phantom Tollbooth   Author:  Norton Juster   Genre:  Fantasy\n",
      "Title:  Nicomachean Ethics   Author:  Aristotle   Genre:  Philosophy\n",
      "Title:  Atlas Shrugged   Author:  Ayn Rand   Genre:  Fiction\n"
     ]
    }
   ],
   "source": [
    "books_read = [{'title': 'The Phantom Tollbooth', 'author': 'Norton Juster', 'genre': 'Fantasy'},\n",
    "              {'title': 'Nicomachean Ethics', 'author': 'Aristotle', 'genre': 'Philosophy'},\n",
    "              {'title': 'Atlas Shrugged', 'author': 'Ayn Rand', 'genre': 'Fiction'}]\n",
    "\n",
    "for book in books_read:\n",
    "    \n",
    "    print('Title: ', book['title'], '  Author: ', book['author'], '  Genre: ', book['genre'])"
   ]
  },
  {
   "cell_type": "code",
   "execution_count": 18,
   "id": "28af9267",
   "metadata": {},
   "outputs": [
    {
     "name": "stdout",
     "output_type": "stream",
     "text": [
      "Enter a genre of book that interests you: philosophy\n",
      "This book may interest you:  Nicomachean Ethics\n"
     ]
    }
   ],
   "source": [
    "your_genre = input('Enter a genre of book that interests you: ')\n",
    "\n",
    "for book in books_read:\n",
    "    \n",
    "    if your_genre.strip().lower() == book['genre'].strip().lower():\n",
    "    \n",
    "        print('This book may interest you: ', book['title'])"
   ]
  },
  {
   "cell_type": "code",
   "execution_count": null,
   "id": "d019ab24",
   "metadata": {},
   "outputs": [],
   "source": []
  }
 ],
 "metadata": {
  "kernelspec": {
   "display_name": "Python 3 (ipykernel)",
   "language": "python",
   "name": "python3"
  },
  "language_info": {
   "codemirror_mode": {
    "name": "ipython",
    "version": 3
   },
   "file_extension": ".py",
   "mimetype": "text/x-python",
   "name": "python",
   "nbconvert_exporter": "python",
   "pygments_lexer": "ipython3",
   "version": "3.9.12"
  }
 },
 "nbformat": 4,
 "nbformat_minor": 5
}
