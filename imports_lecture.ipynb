{
 "cells": [
  {
   "cell_type": "code",
   "execution_count": null,
   "metadata": {},
   "outputs": [],
   "source": [
    "#example syntax for module\n",
    "#import module as m\n",
    "import practice_module.py \n",
    "\n",
    "#example syntax for import a function from module\n",
    "# from module import function_name as function_alias\n",
    "\n"
   ]
  },
  {
   "cell_type": "code",
   "execution_count": null,
   "metadata": {},
   "outputs": [],
   "source": [
    "#example syntax using a function from our module\n",
    "#m.module_function_name()"
   ]
  }
 ],
 "metadata": {
  "language_info": {
   "name": "python"
  },
  "orig_nbformat": 4
 },
 "nbformat": 4,
 "nbformat_minor": 2
}
