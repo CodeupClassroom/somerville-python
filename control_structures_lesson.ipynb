{
 "cells": [
  {
   "cell_type": "code",
   "execution_count": 1,
   "id": "ca8389ab",
   "metadata": {},
   "outputs": [
    {
     "data": {
      "application/javascript": [
       "IPython.notebook.set_autosave_interval(0)"
      ]
     },
     "metadata": {},
     "output_type": "display_data"
    },
    {
     "name": "stdout",
     "output_type": "stream",
     "text": [
      "Autosave disabled\n"
     ]
    }
   ],
   "source": [
    "%autosave 0"
   ]
  },
  {
   "cell_type": "markdown",
   "id": "f9621885",
   "metadata": {},
   "source": [
    "# Control structures lesson\n",
    "1. If/elif/else\n",
    "1. For loop\n",
    "1. List comprehension\n",
    "1. While loop\n",
    "1. Break and continue\n",
    "1. Prompt user for input"
   ]
  },
  {
   "cell_type": "markdown",
   "id": "4d6aae15",
   "metadata": {},
   "source": [
    "### If/else\n",
    "\n",
    "If some condition is met, execute the following code.\n",
    "\n",
    "If it's not, execute the code under the else statement!"
   ]
  },
  {
   "cell_type": "code",
   "execution_count": 7,
   "id": "1331d2a9",
   "metadata": {},
   "outputs": [
    {
     "name": "stdout",
     "output_type": "stream",
     "text": [
      "Hoodie weather.\n"
     ]
    }
   ],
   "source": [
    "temp = 55\n",
    "\n",
    "if temp > 85:\n",
    "    \n",
    "    print('Boy, it\\'s hot!')\n",
    "    \n",
    "elif temp > 65:\n",
    "    \n",
    "    print('Still a bit warm.')\n",
    "    \n",
    "else:\n",
    "    \n",
    "    print('Hoodie weather.')"
   ]
  },
  {
   "cell_type": "markdown",
   "id": "5a408a5e",
   "metadata": {},
   "source": [
    "### For loop\n",
    "\n",
    "For item in list, perform some operation!"
   ]
  },
  {
   "cell_type": "code",
   "execution_count": 9,
   "id": "b951ffbf",
   "metadata": {},
   "outputs": [
    {
     "data": {
      "text/plain": [
       "[1, 4, 9, 16, 25, 36, 49, 64, 81, 100]"
      ]
     },
     "execution_count": 9,
     "metadata": {},
     "output_type": "execute_result"
    }
   ],
   "source": [
    "my_nums = list(range(1, 11))\n",
    "sq_list = []\n",
    "\n",
    "for i in my_nums:\n",
    "    sq_list.append(i**2)\n",
    "    \n",
    "sq_list    "
   ]
  },
  {
   "cell_type": "markdown",
   "id": "8e449812",
   "metadata": {},
   "source": [
    "### List comprehension\n",
    "\n",
    "Place the results of a for loop back into a list.. immediately!"
   ]
  },
  {
   "cell_type": "code",
   "execution_count": 11,
   "id": "1f2c32f8",
   "metadata": {},
   "outputs": [
    {
     "data": {
      "text/plain": [
       "[1, 4, 9, 16, 25, 36, 49, 64, 81, 100]"
      ]
     },
     "execution_count": 11,
     "metadata": {},
     "output_type": "execute_result"
    }
   ],
   "source": [
    "speedy_list = [i**2 for i in my_nums]\n",
    "speedy_list"
   ]
  },
  {
   "cell_type": "markdown",
   "id": "0e65f382",
   "metadata": {},
   "source": [
    "### While loop\n",
    "\n",
    "While some conditional statement evaluates to true, continue to execute the code.\n",
    "\n",
    "When the conditional statement evaluates to false, the loop breaks!"
   ]
  },
  {
   "cell_type": "code",
   "execution_count": 16,
   "id": "d5101aa6",
   "metadata": {},
   "outputs": [
    {
     "name": "stdout",
     "output_type": "stream",
     "text": [
      "1\n",
      "4\n",
      "9\n",
      "16\n",
      "25\n",
      "36\n",
      "49\n",
      "64\n",
      "81\n",
      "100\n"
     ]
    }
   ],
   "source": [
    "i = 1\n",
    "\n",
    "while i < 11:\n",
    "    \n",
    "    print(i**2)\n",
    "    \n",
    "    i += 1"
   ]
  },
  {
   "cell_type": "markdown",
   "id": "12ee4a95",
   "metadata": {},
   "source": [
    "### Break and continue\n",
    "\n",
    "The break keyword will \"break\" us out of the looping structure.\n",
    "\n",
    "The continue keyword will move us to the next iteration of the loop."
   ]
  },
  {
   "cell_type": "code",
   "execution_count": 20,
   "id": "73d74cb4",
   "metadata": {},
   "outputs": [
    {
     "name": "stdout",
     "output_type": "stream",
     "text": [
      "1\n",
      "3\n",
      "5\n",
      "7\n",
      "9\n"
     ]
    }
   ],
   "source": [
    "i = 1\n",
    "\n",
    "while i < 11:\n",
    "    \n",
    "    if i % 2 == 0:\n",
    "        \n",
    "        i += 1\n",
    "        \n",
    "        continue\n",
    "        \n",
    "    print(i)\n",
    "    \n",
    "    i += 1"
   ]
  },
  {
   "cell_type": "code",
   "execution_count": 17,
   "id": "f4fceb0b",
   "metadata": {},
   "outputs": [
    {
     "name": "stdout",
     "output_type": "stream",
     "text": [
      "1\n",
      "2\n",
      "3\n",
      "4\n",
      "5\n",
      "My dream has come true!\n"
     ]
    }
   ],
   "source": [
    "i = 1\n",
    "\n",
    "while i < 11:\n",
    "    \n",
    "    print(i)\n",
    "    \n",
    "    if i == 5:\n",
    "        \n",
    "        print('My dream has come true!')\n",
    "        \n",
    "        break\n",
    "        \n",
    "    i += 1    "
   ]
  },
  {
   "cell_type": "markdown",
   "id": "2e8630e6",
   "metadata": {},
   "source": [
    "### Prompt user for input\n",
    "\n",
    "Use the input() function to get input from the user."
   ]
  },
  {
   "cell_type": "code",
   "execution_count": 21,
   "id": "22641e50",
   "metadata": {},
   "outputs": [
    {
     "name": "stdout",
     "output_type": "stream",
     "text": [
      "Enter an integer: 6\n"
     ]
    }
   ],
   "source": [
    "my_num = input('Enter an integer: ')"
   ]
  },
  {
   "cell_type": "code",
   "execution_count": 23,
   "id": "eeb2a8f2",
   "metadata": {},
   "outputs": [
    {
     "data": {
      "text/plain": [
       "str"
      ]
     },
     "execution_count": 23,
     "metadata": {},
     "output_type": "execute_result"
    }
   ],
   "source": [
    "type(my_num)"
   ]
  },
  {
   "cell_type": "code",
   "execution_count": 24,
   "id": "8e3c10f9",
   "metadata": {},
   "outputs": [
    {
     "data": {
      "text/plain": [
       "6"
      ]
     },
     "execution_count": 24,
     "metadata": {},
     "output_type": "execute_result"
    }
   ],
   "source": [
    "int(my_num)"
   ]
  },
  {
   "cell_type": "code",
   "execution_count": 26,
   "id": "42ed44dd",
   "metadata": {},
   "outputs": [
    {
     "name": "stdout",
     "output_type": "stream",
     "text": [
      "Enter an integer: abc\n",
      "Please put in an integer you dummy.\n"
     ]
    }
   ],
   "source": [
    "my_num = input('Enter an integer: ')\n",
    "\n",
    "try:\n",
    "    \n",
    "    int(my_num)\n",
    "    \n",
    "    print('This will work!')\n",
    "    \n",
    "except:\n",
    "    \n",
    "    print('Please put in an integer you dummy.')"
   ]
  },
  {
   "cell_type": "code",
   "execution_count": null,
   "id": "79c5659b",
   "metadata": {},
   "outputs": [],
   "source": []
  }
 ],
 "metadata": {
  "kernelspec": {
   "display_name": "Python 3 (ipykernel)",
   "language": "python",
   "name": "python3"
  },
  "language_info": {
   "codemirror_mode": {
    "name": "ipython",
    "version": 3
   },
   "file_extension": ".py",
   "mimetype": "text/x-python",
   "name": "python",
   "nbconvert_exporter": "python",
   "pygments_lexer": "ipython3",
   "version": "3.9.12"
  }
 },
 "nbformat": 4,
 "nbformat_minor": 5
}
