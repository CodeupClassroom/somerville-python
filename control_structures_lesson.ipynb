{
 "cells": [
  {
   "cell_type": "code",
   "execution_count": 1,
   "id": "c0631b47",
   "metadata": {},
   "outputs": [
    {
     "data": {
      "application/javascript": [
       "IPython.notebook.set_autosave_interval(0)"
      ]
     },
     "metadata": {},
     "output_type": "display_data"
    },
    {
     "name": "stdout",
     "output_type": "stream",
     "text": [
      "Autosave disabled\n"
     ]
    }
   ],
   "source": [
    "%autosave 0"
   ]
  },
  {
   "cell_type": "markdown",
   "id": "c5b1750c",
   "metadata": {},
   "source": [
    "# Control structures lesson\n",
    "1. If/elif/else\n",
    "1. For loop\n",
    "1. List comprehension\n",
    "1. While loop\n",
    "1. Break and continue\n",
    "1. Prompt user for input"
   ]
  },
  {
   "cell_type": "markdown",
   "id": "6a1b3863",
   "metadata": {},
   "source": [
    "### If/else\n",
    "\n",
    "If some condition is met, execute the following code.\n",
    "\n",
    "If it's not, execute the code under the else statement!"
   ]
  },
  {
   "cell_type": "code",
   "execution_count": null,
   "id": "34008f9b",
   "metadata": {},
   "outputs": [],
   "source": []
  },
  {
   "cell_type": "markdown",
   "id": "c7e093e8",
   "metadata": {},
   "source": [
    "### For loop\n",
    "\n",
    "For item in list, perform some operation!"
   ]
  },
  {
   "cell_type": "code",
   "execution_count": null,
   "id": "8691a441",
   "metadata": {},
   "outputs": [],
   "source": []
  },
  {
   "cell_type": "markdown",
   "id": "4b2fc0f6",
   "metadata": {},
   "source": [
    "### List comprehension\n",
    "\n",
    "Place the results of a for loop back into a list.. immediately!"
   ]
  },
  {
   "cell_type": "code",
   "execution_count": null,
   "id": "b6001342",
   "metadata": {},
   "outputs": [],
   "source": []
  },
  {
   "cell_type": "markdown",
   "id": "0e69b12f",
   "metadata": {},
   "source": [
    "### While loop\n",
    "\n",
    "While some conditional statement evaluates to true, continue to execute the code.\n",
    "\n",
    "When the conditional statement evaluates to false, the loop breaks!"
   ]
  },
  {
   "cell_type": "code",
   "execution_count": null,
   "id": "71c7f8d2",
   "metadata": {},
   "outputs": [],
   "source": []
  },
  {
   "cell_type": "markdown",
   "id": "ebd0ed8b",
   "metadata": {},
   "source": [
    "### Break and continue\n",
    "\n",
    "The break keyword will \"break\" us out of the looping structure.\n",
    "\n",
    "The continue keyword will move us to the next iteration of the loop."
   ]
  },
  {
   "cell_type": "code",
   "execution_count": null,
   "id": "e4515cb6",
   "metadata": {},
   "outputs": [],
   "source": []
  },
  {
   "cell_type": "markdown",
   "id": "72088e9c",
   "metadata": {},
   "source": [
    "### Prompt user for input\n",
    "\n",
    "Use the input() function to get input from the user."
   ]
  },
  {
   "cell_type": "code",
   "execution_count": null,
   "id": "d07fd869",
   "metadata": {},
   "outputs": [],
   "source": []
  }
 ],
 "metadata": {
  "kernelspec": {
   "display_name": "Python 3 (ipykernel)",
   "language": "python",
   "name": "python3"
  },
  "language_info": {
   "codemirror_mode": {
    "name": "ipython",
    "version": 3
   },
   "file_extension": ".py",
   "mimetype": "text/x-python",
   "name": "python",
   "nbconvert_exporter": "python",
   "pygments_lexer": "ipython3",
   "version": "3.9.12"
  }
 },
 "nbformat": 4,
 "nbformat_minor": 5
}
