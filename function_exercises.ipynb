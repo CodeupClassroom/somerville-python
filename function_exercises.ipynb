{
 "cells": [
  {
   "attachments": {},
   "cell_type": "markdown",
   "id": "3471e6a8",
   "metadata": {},
   "source": [
    "Function Exercises"
   ]
  },
  {
   "attachments": {},
   "cell_type": "markdown",
   "id": "d78e7827",
   "metadata": {},
   "source": [
    "1. Define a function named ```is_two```. It should accept one input and return True if the passed input is either the number or the string 2, ```False``` otherwise.\n",
    "2. Define a function named ```is_vowel```. It should return ```True``` if the passed string is a vowel, ```False``` otherwise.\n",
    "3. Define a function named ```is_consonant```. It should return ```True``` if the passed string is a consonant, False otherwise. Use your ```is_vowel``` function to accomplish this.\n",
    "4. Define a function that accepts a string that is a word. The function should capitalize the first letter of the word if the word starts with a consonant.\n",
    "5. Define a function named ```calculate_tip```. It should accept a tip percentage (a number between 0 and 1) and the bill total, and return the amount to tip.\n",
    "6. Define a function named ```apply_discount```. It should accept a original price, and a discount percentage, and return the price after the discount is applied.\n",
    "7. Define a function named ```handle_commas```. It should accept a string that is a number that contains commas in it as input, and return a number as output.\n",
    "8. Define a function named ```get_letter_grade```. It should accept a number and return the letter grade associated with that number (A-F).\n",
    "9. Define a function named ```remove_vowels``` that accepts a string and returns a string with all the vowels removed.\n",
    "10. Define a function named ```normalize_name```. It should accept a string and return a valid python identifier, that is:\n",
    "- anything that is not a valid python identifier should be removed\n",
    "- leading and trailing whitespace should be removed\n",
    "- everything should be lowercase\n",
    "- spaces should be replaced with underscores\n",
    "- for example:\n",
    "    - ```Name``` will become name\n",
    "    - ```First Name``` will become ```first_name```\n",
    "    - ```% Completed``` will become ```completed```\n",
    "11. Write a function named cumulative_sum that accepts a list of numbers and returns a list that is the cumulative sum of the numbers in the list.\n",
    "- ```cumulative_sum([1, 1, 1])``` returns ```[1, 2, 3]```\n",
    "- ```cumulative_sum([1, 2, 3, 4])``` returns ```[1, 3, 6, 10]```"
   ]
  },
  {
   "attachments": {},
   "cell_type": "markdown",
   "id": "676bb010",
   "metadata": {},
   "source": [
    "<hr style=\"border:1px solid black\">\n",
    "<hr style=\"border:1px solid black\">"
   ]
  },
  {
   "attachments": {},
   "cell_type": "markdown",
   "id": "befd0f43",
   "metadata": {},
   "source": [
    "1. Define a function named ```is_two```. It should accept one input and return True if the passed input is either the number or the string 2, ```False``` otherwise."
   ]
  },
  {
   "cell_type": "code",
   "execution_count": 2,
   "id": "870dba42",
   "metadata": {},
   "outputs": [],
   "source": [
    "def is_two(input):\n",
    "    if input == 2 or input == '2':\n",
    "        return True\n",
    "    else:\n",
    "        return False"
   ]
  },
  {
   "cell_type": "code",
   "execution_count": 9,
   "id": "fb72660d",
   "metadata": {},
   "outputs": [],
   "source": [
    "#another way to do this\n",
    "def is_two(input):\n",
    "    return input == 2 or input == '2'"
   ]
  },
  {
   "cell_type": "code",
   "execution_count": 10,
   "id": "1fe01722",
   "metadata": {},
   "outputs": [
    {
     "data": {
      "text/plain": [
       "True"
      ]
     },
     "execution_count": 10,
     "metadata": {},
     "output_type": "execute_result"
    }
   ],
   "source": [
    "is_two(2)"
   ]
  },
  {
   "cell_type": "code",
   "execution_count": 11,
   "id": "6ad873a5",
   "metadata": {},
   "outputs": [
    {
     "data": {
      "text/plain": [
       "True"
      ]
     },
     "execution_count": 11,
     "metadata": {},
     "output_type": "execute_result"
    }
   ],
   "source": [
    "is_two('2')"
   ]
  },
  {
   "cell_type": "code",
   "execution_count": 12,
   "id": "6eb8c6fd",
   "metadata": {},
   "outputs": [
    {
     "data": {
      "text/plain": [
       "False"
      ]
     },
     "execution_count": 12,
     "metadata": {},
     "output_type": "execute_result"
    }
   ],
   "source": [
    "is_two(9)"
   ]
  },
  {
   "attachments": {},
   "cell_type": "markdown",
   "id": "b5bc5e1f",
   "metadata": {},
   "source": [
    "<hr style=\"border:1px solid grey\">"
   ]
  },
  {
   "attachments": {},
   "cell_type": "markdown",
   "id": "0fe80119",
   "metadata": {},
   "source": [
    "2. Define a function named ```is_vowel```. It should return ```True``` if the passed string is a vowel, ```False``` otherwise."
   ]
  },
  {
   "cell_type": "code",
   "execution_count": 17,
   "id": "af6e1278",
   "metadata": {},
   "outputs": [],
   "source": [
    "def is_vowel(input):\n",
    "    if input in ('aeiou'):\n",
    "        return True\n",
    "    else:\n",
    "        return False"
   ]
  },
  {
   "cell_type": "code",
   "execution_count": 18,
   "id": "8cab6f7e",
   "metadata": {},
   "outputs": [
    {
     "data": {
      "text/plain": [
       "True"
      ]
     },
     "execution_count": 18,
     "metadata": {},
     "output_type": "execute_result"
    }
   ],
   "source": [
    "is_vowel('i')"
   ]
  },
  {
   "cell_type": "code",
   "execution_count": 20,
   "id": "6319e230",
   "metadata": {},
   "outputs": [
    {
     "data": {
      "text/plain": [
       "False"
      ]
     },
     "execution_count": 20,
     "metadata": {},
     "output_type": "execute_result"
    }
   ],
   "source": [
    "is_vowel('b')"
   ]
  },
  {
   "attachments": {},
   "cell_type": "markdown",
   "id": "53a88b3c",
   "metadata": {},
   "source": [
    "<hr style=\"border:1px solid grey\">"
   ]
  },
  {
   "attachments": {},
   "cell_type": "markdown",
   "id": "7bf81404",
   "metadata": {},
   "source": [
    "3. Define a function named ```is_consonant```. It should return ```True``` if the passed string is a consonant, False otherwise. Use your ```is_vowel``` function to accomplish this."
   ]
  },
  {
   "cell_type": "code",
   "execution_count": 21,
   "id": "9453beb9",
   "metadata": {},
   "outputs": [],
   "source": [
    "def is_consonant(input):\n",
    "    if is_vowel(input):\n",
    "        return False\n",
    "    else:\n",
    "        return True"
   ]
  },
  {
   "cell_type": "code",
   "execution_count": 23,
   "id": "335276b1",
   "metadata": {},
   "outputs": [
    {
     "data": {
      "text/plain": [
       "False"
      ]
     },
     "execution_count": 23,
     "metadata": {},
     "output_type": "execute_result"
    }
   ],
   "source": [
    "is_consonant('e')"
   ]
  },
  {
   "cell_type": "code",
   "execution_count": 24,
   "id": "a35f8fff",
   "metadata": {},
   "outputs": [
    {
     "data": {
      "text/plain": [
       "True"
      ]
     },
     "execution_count": 24,
     "metadata": {},
     "output_type": "execute_result"
    }
   ],
   "source": [
    "is_consonant('b')"
   ]
  },
  {
   "attachments": {},
   "cell_type": "markdown",
   "id": "91461048",
   "metadata": {},
   "source": [
    "<hr style=\"border:1px solid grey\">"
   ]
  },
  {
   "attachments": {},
   "cell_type": "markdown",
   "id": "3d04f95c",
   "metadata": {},
   "source": [
    "4. Define a function that accepts a string that is a word. The function should capitalize the first letter of the word if the word starts with a consonant."
   ]
  },
  {
   "cell_type": "code",
   "execution_count": 32,
   "id": "fb7b2650",
   "metadata": {},
   "outputs": [],
   "source": [
    "def cap_first(input):\n",
    "    count = 0\n",
    "    new_string = ''\n",
    "    for letter in input:\n",
    "        #take the first letter and capitalize if consonant\n",
    "        if count == 0 and is_consonant(letter):\n",
    "            new_string +=letter.upper()\n",
    "            count =+1\n",
    "        else:\n",
    "            new_string += letter\n",
    "            count += 1\n",
    "    return new_string"
   ]
  },
  {
   "cell_type": "code",
   "execution_count": 36,
   "id": "3d047533",
   "metadata": {},
   "outputs": [],
   "source": [
    "# another wayt to do this\n",
    "def cap_first(input):\n",
    "    if input[0] not in ('aeiou'):\n",
    "        return input.capitalize()\n",
    "    else:\n",
    "        return input"
   ]
  },
  {
   "cell_type": "code",
   "execution_count": 39,
   "id": "d358ec19",
   "metadata": {},
   "outputs": [],
   "source": [
    "#another way to do this\n",
    "def cap_first(input):\n",
    "    if is_consonant(input[0]): \n",
    "        return input.capitalize()\n",
    "    else:\n",
    "        return input"
   ]
  },
  {
   "cell_type": "code",
   "execution_count": 40,
   "id": "68e509bd",
   "metadata": {},
   "outputs": [
    {
     "data": {
      "text/plain": [
       "'edwige'"
      ]
     },
     "execution_count": 40,
     "metadata": {},
     "output_type": "execute_result"
    }
   ],
   "source": [
    "cap_first('edwige')"
   ]
  },
  {
   "cell_type": "code",
   "execution_count": 41,
   "id": "ca24b523",
   "metadata": {},
   "outputs": [
    {
     "data": {
      "text/plain": [
       "'Theo'"
      ]
     },
     "execution_count": 41,
     "metadata": {},
     "output_type": "execute_result"
    }
   ],
   "source": [
    "cap_first('theo')"
   ]
  },
  {
   "attachments": {},
   "cell_type": "markdown",
   "id": "7241eb1c",
   "metadata": {},
   "source": [
    "<hr style=\"border:1px solid grey\">"
   ]
  },
  {
   "attachments": {},
   "cell_type": "markdown",
   "id": "da07e6c8",
   "metadata": {},
   "source": [
    "5. Define a function named ```calculate_tip```. It should accept a tip percentage (a number between 0 and 1) and the bill total, and return the amount to tip."
   ]
  },
  {
   "cell_type": "code",
   "execution_count": 42,
   "id": "9c06f019",
   "metadata": {},
   "outputs": [],
   "source": [
    "def calculate_tip(bill, percentage):\n",
    "    return bill * percentage"
   ]
  },
  {
   "cell_type": "code",
   "execution_count": 44,
   "id": "011ecb03",
   "metadata": {},
   "outputs": [
    {
     "data": {
      "text/plain": [
       "10.0"
      ]
     },
     "execution_count": 44,
     "metadata": {},
     "output_type": "execute_result"
    }
   ],
   "source": [
    "calculate_tip(50, .20)"
   ]
  },
  {
   "cell_type": "code",
   "execution_count": 45,
   "id": "89ff451d",
   "metadata": {},
   "outputs": [
    {
     "data": {
      "text/plain": [
       "10.0"
      ]
     },
     "execution_count": 45,
     "metadata": {},
     "output_type": "execute_result"
    }
   ],
   "source": [
    "calculate_tip(100, .10)"
   ]
  },
  {
   "attachments": {},
   "cell_type": "markdown",
   "id": "ca5119d2",
   "metadata": {},
   "source": [
    "<hr style=\"border:1px solid grey\">"
   ]
  },
  {
   "attachments": {},
   "cell_type": "markdown",
   "id": "e556e8ac",
   "metadata": {},
   "source": [
    "6. Define a function named ```apply_discount```. It should accept a original price, and a discount percentage, and return the price after the discount is applied."
   ]
  },
  {
   "cell_type": "code",
   "execution_count": 46,
   "id": "200cf3ee",
   "metadata": {},
   "outputs": [],
   "source": [
    "def apply_discount(price, discount):\n",
    "    return price - (price * discount)"
   ]
  },
  {
   "cell_type": "code",
   "execution_count": 53,
   "id": "27ae8a3b",
   "metadata": {},
   "outputs": [
    {
     "data": {
      "text/plain": [
       "-8900"
      ]
     },
     "execution_count": 53,
     "metadata": {},
     "output_type": "execute_result"
    }
   ],
   "source": [
    "apply_discount(100, 90)"
   ]
  },
  {
   "cell_type": "code",
   "execution_count": 50,
   "id": "b0657d4b",
   "metadata": {},
   "outputs": [
    {
     "data": {
      "text/plain": [
       "50.0"
      ]
     },
     "execution_count": 50,
     "metadata": {},
     "output_type": "execute_result"
    }
   ],
   "source": [
    "apply_discount(100, .50)"
   ]
  },
  {
   "attachments": {},
   "cell_type": "markdown",
   "id": "9e1f3f27",
   "metadata": {},
   "source": [
    "<hr style=\"border:1px solid grey\">"
   ]
  },
  {
   "attachments": {},
   "cell_type": "markdown",
   "id": "196a54b0",
   "metadata": {},
   "source": [
    "7. Define a function named ```handle_commas```. It should accept a string that is a number that contains commas in it as input, and return a number as output."
   ]
  },
  {
   "cell_type": "code",
   "execution_count": 56,
   "id": "34f31c6f",
   "metadata": {},
   "outputs": [],
   "source": [
    "def handle_commas(input):\n",
    "    new_number = ''\n",
    "    for number in input:\n",
    "        if number != ',':\n",
    "            new_number += number\n",
    "    return new_number\n"
   ]
  },
  {
   "cell_type": "code",
   "execution_count": 62,
   "id": "13ca39ae",
   "metadata": {},
   "outputs": [],
   "source": [
    "def handle_commas(input):\n",
    "    return int(input.replace(',',''))"
   ]
  },
  {
   "cell_type": "code",
   "execution_count": 63,
   "id": "dc648d73",
   "metadata": {},
   "outputs": [
    {
     "data": {
      "text/plain": [
       "5230000"
      ]
     },
     "execution_count": 63,
     "metadata": {},
     "output_type": "execute_result"
    }
   ],
   "source": [
    "handle_commas('5,230,000')"
   ]
  },
  {
   "cell_type": "code",
   "execution_count": 64,
   "id": "d67b8d21",
   "metadata": {},
   "outputs": [
    {
     "data": {
      "text/plain": [
       "777777777777888"
      ]
     },
     "execution_count": 64,
     "metadata": {},
     "output_type": "execute_result"
    }
   ],
   "source": [
    "handle_commas('777,777,777,777,888')"
   ]
  },
  {
   "attachments": {},
   "cell_type": "markdown",
   "id": "f8a4808c",
   "metadata": {},
   "source": [
    "<hr style=\"border:1px solid grey\">"
   ]
  },
  {
   "attachments": {},
   "cell_type": "markdown",
   "id": "f02ce259",
   "metadata": {},
   "source": [
    "8. Define a function named ```get_letter_grade```. It should accept a number and return the letter grade associated with that number (A-F)."
   ]
  },
  {
   "cell_type": "code",
   "execution_count": 65,
   "id": "ae9a1c0f",
   "metadata": {},
   "outputs": [],
   "source": [
    "def get_letter_grade(input):\n",
    "    if input >= 88: \n",
    "        return 'A'    \n",
    "    elif input >= 80:   \n",
    "        return('B')   \n",
    "    elif input >= 67:   \n",
    "        return('C')  \n",
    "    elif input >= 60: \n",
    "        return('D') \n",
    "    else:  \n",
    "        return('F')"
   ]
  },
  {
   "cell_type": "code",
   "execution_count": 67,
   "id": "1d6706f2",
   "metadata": {},
   "outputs": [
    {
     "data": {
      "text/plain": [
       "'A'"
      ]
     },
     "execution_count": 67,
     "metadata": {},
     "output_type": "execute_result"
    }
   ],
   "source": [
    "get_letter_grade(90)"
   ]
  },
  {
   "cell_type": "code",
   "execution_count": 69,
   "id": "1d0650bc",
   "metadata": {},
   "outputs": [
    {
     "data": {
      "text/plain": [
       "'C'"
      ]
     },
     "execution_count": 69,
     "metadata": {},
     "output_type": "execute_result"
    }
   ],
   "source": [
    "get_letter_grade(67)"
   ]
  },
  {
   "cell_type": "code",
   "execution_count": 70,
   "id": "2c3b0755",
   "metadata": {},
   "outputs": [
    {
     "data": {
      "text/plain": [
       "'A'"
      ]
     },
     "execution_count": 70,
     "metadata": {},
     "output_type": "execute_result"
    }
   ],
   "source": [
    "get_letter_grade(101)"
   ]
  },
  {
   "attachments": {},
   "cell_type": "markdown",
   "id": "6d5f12bf",
   "metadata": {},
   "source": [
    "<hr style=\"border:1px solid grey\">"
   ]
  },
  {
   "attachments": {},
   "cell_type": "markdown",
   "id": "b4b24a69",
   "metadata": {},
   "source": [
    "9. Define a function named ```remove_vowels``` that accepts a string and returns a string with all the vowels removed."
   ]
  },
  {
   "cell_type": "code",
   "execution_count": 75,
   "id": "b47f5e3d",
   "metadata": {},
   "outputs": [],
   "source": [
    "def remove_vowels(input):\n",
    "    new_string = ''\n",
    "    for letter in input:\n",
    "        if letter not in ('aeiou'):\n",
    "            new_string += letter\n",
    "    return new_string"
   ]
  },
  {
   "cell_type": "code",
   "execution_count": 76,
   "id": "3ab1e2ff",
   "metadata": {},
   "outputs": [
    {
     "data": {
      "text/plain": [
       "'Mrcln'"
      ]
     },
     "execution_count": 76,
     "metadata": {},
     "output_type": "execute_result"
    }
   ],
   "source": [
    "remove_vowels('Marcelino')"
   ]
  },
  {
   "cell_type": "code",
   "execution_count": 77,
   "id": "3102d519",
   "metadata": {},
   "outputs": [
    {
     "data": {
      "text/plain": [
       "'Thdr'"
      ]
     },
     "execution_count": 77,
     "metadata": {},
     "output_type": "execute_result"
    }
   ],
   "source": [
    "remove_vowels('Theodore')"
   ]
  },
  {
   "attachments": {},
   "cell_type": "markdown",
   "id": "575d847a",
   "metadata": {},
   "source": [
    "<hr style=\"border:1px solid grey\">"
   ]
  },
  {
   "attachments": {},
   "cell_type": "markdown",
   "id": "73cae591",
   "metadata": {},
   "source": [
    "10. Define a function named ```normalize_name```. It should accept a string and return a valid python identifier, that is:\n",
    "- anything that is not a valid python identifier should be removed\n",
    "- leading and trailing whitespace should be removed\n",
    "- everything should be lowercase\n",
    "- spaces should be replaced with underscores\n",
    "- for example:\n",
    "    - ```Name``` will become name\n",
    "    - ```First Name``` will become ```first_name```\n",
    "    - ```% Completed``` will become ```completed```"
   ]
  },
  {
   "cell_type": "code",
   "execution_count": 101,
   "id": "c9437608",
   "metadata": {},
   "outputs": [],
   "source": [
    "def normalize_name (input):\n",
    "    new_string = ''\n",
    "    prev_letter = ''\n",
    "    #remove leading and ending whitespace\n",
    "    input.strip()\n",
    "    for letter in input:\n",
    "        #if letter is true for letter or number \n",
    "        if letter.isalnum() == True:\n",
    "            new_string += letter.lower()\n",
    "        #checks for leading aplanumeric with a space and replace with _\n",
    "        elif letter == ' ' and prev_letter.isalnum() == True:\n",
    "            new_string += '_'\n",
    "        #increment to the next letter and save it to previous lettter\n",
    "        else:\n",
    "            new_string += ''\n",
    "            prev_letter = letter\n",
    "    if new_string[len(new_string)-1] == '_':\n",
    "        new_string = new_string[:1]\n",
    "    return new_string"
   ]
  },
  {
   "cell_type": "code",
   "execution_count": 104,
   "id": "4e392fbc",
   "metadata": {},
   "outputs": [],
   "source": [
    "def normalize_name(input):\n",
    "    output = ''\n",
    "    for char in input:\n",
    "        if char.isalnum() or char == ' ':\n",
    "            output += char\n",
    "    return output.strip().lower().replace(' ','_').replace('__','_')"
   ]
  },
  {
   "cell_type": "code",
   "execution_count": 105,
   "id": "cecf2580",
   "metadata": {},
   "outputs": [
    {
     "data": {
      "text/plain": [
       "'name'"
      ]
     },
     "execution_count": 105,
     "metadata": {},
     "output_type": "execute_result"
    }
   ],
   "source": [
    "normalize_name('Name')"
   ]
  },
  {
   "cell_type": "code",
   "execution_count": 106,
   "id": "6534018d",
   "metadata": {},
   "outputs": [
    {
     "data": {
      "text/plain": [
       "'first_name'"
      ]
     },
     "execution_count": 106,
     "metadata": {},
     "output_type": "execute_result"
    }
   ],
   "source": [
    "normalize_name('First  Name') #return 'first__name'"
   ]
  },
  {
   "cell_type": "code",
   "execution_count": 107,
   "id": "9f5507a3",
   "metadata": {},
   "outputs": [
    {
     "data": {
      "text/plain": [
       "'completed'"
      ]
     },
     "execution_count": 107,
     "metadata": {},
     "output_type": "execute_result"
    }
   ],
   "source": [
    "normalize_name('% Completed')"
   ]
  },
  {
   "cell_type": "code",
   "execution_count": 108,
   "id": "032caad3",
   "metadata": {},
   "outputs": [
    {
     "data": {
      "text/plain": [
       "'completed'"
      ]
     },
     "execution_count": 108,
     "metadata": {},
     "output_type": "execute_result"
    }
   ],
   "source": [
    "normalize_name('% Completed %')"
   ]
  },
  {
   "attachments": {},
   "cell_type": "markdown",
   "id": "4f143263",
   "metadata": {},
   "source": [
    "<hr style=\"border:1px solid grey\">"
   ]
  },
  {
   "attachments": {},
   "cell_type": "markdown",
   "id": "1b162eaf",
   "metadata": {},
   "source": [
    "11. Write a function named cumulative_sum that accepts a list of numbers and returns a list that is the cumulative sum of the numbers in the list.\n",
    "- ```cumulative_sum([1, 1, 1])``` returns ```[1, 2, 3]```\n",
    "- ```cumulative_sum([1, 2, 3, 4])``` returns ```[1, 3, 6, 10]```"
   ]
  },
  {
   "cell_type": "code",
   "execution_count": 110,
   "id": "3e7aedbf",
   "metadata": {},
   "outputs": [],
   "source": [
    "def cumulative_sum(input):\n",
    "    new_list = []\n",
    "    count = 1\n",
    "    for num in input: \n",
    "        list_sum = sum(input[:count])\n",
    "        new_list.append(list_sum)\n",
    "        count += 1\n",
    "    return new_list"
   ]
  },
  {
   "cell_type": "code",
   "execution_count": 111,
   "id": "8c9f40ff",
   "metadata": {},
   "outputs": [
    {
     "data": {
      "text/plain": [
       "[1, 2, 3]"
      ]
     },
     "execution_count": 111,
     "metadata": {},
     "output_type": "execute_result"
    }
   ],
   "source": [
    "cumulative_sum([1, 1, 1])"
   ]
  },
  {
   "cell_type": "code",
   "execution_count": 112,
   "id": "005516a5",
   "metadata": {},
   "outputs": [
    {
     "data": {
      "text/plain": [
       "[1, 3, 6, 10]"
      ]
     },
     "execution_count": 112,
     "metadata": {},
     "output_type": "execute_result"
    }
   ],
   "source": [
    "cumulative_sum([1, 2, 3, 4])"
   ]
  }
 ],
 "metadata": {
  "kernelspec": {
   "display_name": "Python 3 (ipykernel)",
   "language": "python",
   "name": "python3"
  },
  "language_info": {
   "codemirror_mode": {
    "name": "ipython",
    "version": 3
   },
   "file_extension": ".py",
   "mimetype": "text/x-python",
   "name": "python",
   "nbconvert_exporter": "python",
   "pygments_lexer": "ipython3",
   "version": "3.10.9"
  }
 },
 "nbformat": 4,
 "nbformat_minor": 5
}
