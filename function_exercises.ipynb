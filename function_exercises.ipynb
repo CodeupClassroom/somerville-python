{
 "cells": [
  {
   "attachments": {},
   "cell_type": "markdown",
   "id": "3471e6a8",
   "metadata": {},
   "source": [
    "Function Exercises"
   ]
  },
  {
   "attachments": {},
   "cell_type": "markdown",
   "id": "d78e7827",
   "metadata": {},
   "source": [
    "1. Define a function named ```is_two```. It should accept one input and return True if the passed input is either the number or the string 2, ```False``` otherwise.\n",
    "2. Define a function named ```is_vowel```. It should return ```True``` if the passed string is a vowel, ```False``` otherwise.\n",
    "3. Define a function named ```is_consonant```. It should return ```True``` if the passed string is a consonant, False otherwise. Use your ```is_vowel``` function to accomplish this.\n",
    "4. Define a function that accepts a string that is a word. The function should capitalize the first letter of the word if the word starts with a consonant.\n",
    "5. Define a function named ```calculate_tip```. It should accept a tip percentage (a number between 0 and 1) and the bill total, and return the amount to tip.\n",
    "6. Define a function named ```apply_discount```. It should accept a original price, and a discount percentage, and return the price after the discount is applied.\n",
    "7. Define a function named ```handle_commas```. It should accept a string that is a number that contains commas in it as input, and return a number as output.\n",
    "8. Define a function named ```get_letter_grade```. It should accept a number and return the letter grade associated with that number (A-F).\n",
    "9. Define a function named ```remove_vowels``` that accepts a string and returns a string with all the vowels removed.\n",
    "10. Define a function named ```normalize_name```. It should accept a string and return a valid python identifier, that is:\n",
    "- anything that is not a valid python identifier should be removed\n",
    "- leading and trailing whitespace should be removed\n",
    "- everything should be lowercase\n",
    "- spaces should be replaced with underscores\n",
    "- for example:\n",
    "    - ```Name``` will become name\n",
    "    - ```First Name``` will become ```first_name```\n",
    "    - ```% Completed``` will become ```completed```\n",
    "11. Write a function named cumulative_sum that accepts a list of numbers and returns a list that is the cumulative sum of the numbers in the list.\n",
    "- ```cumulative_sum([1, 1, 1])``` returns ```[1, 2, 3]```\n",
    "- ```cumulative_sum([1, 2, 3, 4])``` returns ```[1, 3, 6, 10]```"
   ]
  },
  {
   "attachments": {},
   "cell_type": "markdown",
   "id": "676bb010",
   "metadata": {},
   "source": [
    "<hr style=\"border:1px solid black\">\n",
    "<hr style=\"border:1px solid black\">"
   ]
  },
  {
   "attachments": {},
   "cell_type": "markdown",
   "id": "befd0f43",
   "metadata": {},
   "source": [
    "1. Define a function named ```is_two```. It should accept one input and return True if the passed input is either the number or the string 2, ```False``` otherwise."
   ]
  },
  {
   "cell_type": "code",
   "execution_count": 2,
   "id": "870dba42",
   "metadata": {},
   "outputs": [],
   "source": [
    "def is_two(input):\n",
    "    if input == 2 or input == '2':\n",
    "        return True\n",
    "    else:\n",
    "        return False"
   ]
  },
  {
   "cell_type": "code",
   "execution_count": 9,
   "id": "fb72660d",
   "metadata": {},
   "outputs": [],
   "source": [
    "#another way to do this\n",
    "def is_two(input):\n",
    "    return input == 2 or input == '2'"
   ]
  },
  {
   "cell_type": "code",
   "execution_count": 10,
   "id": "1fe01722",
   "metadata": {},
   "outputs": [
    {
     "data": {
      "text/plain": [
       "True"
      ]
     },
     "execution_count": 10,
     "metadata": {},
     "output_type": "execute_result"
    }
   ],
   "source": [
    "is_two(2)"
   ]
  },
  {
   "cell_type": "code",
   "execution_count": 11,
   "id": "6ad873a5",
   "metadata": {},
   "outputs": [
    {
     "data": {
      "text/plain": [
       "True"
      ]
     },
     "execution_count": 11,
     "metadata": {},
     "output_type": "execute_result"
    }
   ],
   "source": [
    "is_two('2')"
   ]
  },
  {
   "cell_type": "code",
   "execution_count": 12,
   "id": "6eb8c6fd",
   "metadata": {},
   "outputs": [
    {
     "data": {
      "text/plain": [
       "False"
      ]
     },
     "execution_count": 12,
     "metadata": {},
     "output_type": "execute_result"
    }
   ],
   "source": [
    "is_two(9)"
   ]
  },
  {
   "attachments": {},
   "cell_type": "markdown",
   "id": "b5bc5e1f",
   "metadata": {},
   "source": [
    "<hr style=\"border:1px solid grey\">"
   ]
  },
  {
   "attachments": {},
   "cell_type": "markdown",
   "id": "0fe80119",
   "metadata": {},
   "source": [
    "2. Define a function named ```is_vowel```. It should return ```True``` if the passed string is a vowel, ```False``` otherwise."
   ]
  },
  {
   "cell_type": "code",
   "execution_count": 17,
   "id": "af6e1278",
   "metadata": {},
   "outputs": [],
   "source": [
    "def is_vowel(input):\n",
    "    if input in ('aeiou'):\n",
    "        return True\n",
    "    else:\n",
    "        return False"
   ]
  },
  {
   "cell_type": "code",
   "execution_count": 18,
   "id": "8cab6f7e",
   "metadata": {},
   "outputs": [
    {
     "data": {
      "text/plain": [
       "True"
      ]
     },
     "execution_count": 18,
     "metadata": {},
     "output_type": "execute_result"
    }
   ],
   "source": [
    "is_vowel('i')"
   ]
  },
  {
   "cell_type": "code",
   "execution_count": null,
   "id": "6319e230",
   "metadata": {},
   "outputs": [],
   "source": []
  },
  {
   "attachments": {},
   "cell_type": "markdown",
   "id": "53a88b3c",
   "metadata": {},
   "source": [
    "<hr style=\"border:1px solid grey\">"
   ]
  },
  {
   "attachments": {},
   "cell_type": "markdown",
   "id": "7bf81404",
   "metadata": {},
   "source": [
    "3. Define a function named ```is_consonant```. It should return ```True``` if the passed string is a consonant, False otherwise. Use your ```is_vowel``` function to accomplish this."
   ]
  },
  {
   "cell_type": "code",
   "execution_count": 13,
   "id": "9453beb9",
   "metadata": {},
   "outputs": [],
   "source": []
  },
  {
   "attachments": {},
   "cell_type": "markdown",
   "id": "91461048",
   "metadata": {},
   "source": [
    "<hr style=\"border:1px solid grey\">"
   ]
  },
  {
   "attachments": {},
   "cell_type": "markdown",
   "id": "3d04f95c",
   "metadata": {},
   "source": [
    "4. Define a function that accepts a string that is a word. The function should capitalize the first letter of the word if the word starts with a consonant."
   ]
  },
  {
   "cell_type": "code",
   "execution_count": 21,
   "id": "fb7b2650",
   "metadata": {},
   "outputs": [],
   "source": []
  },
  {
   "attachments": {},
   "cell_type": "markdown",
   "id": "7241eb1c",
   "metadata": {},
   "source": [
    "<hr style=\"border:1px solid grey\">"
   ]
  },
  {
   "attachments": {},
   "cell_type": "markdown",
   "id": "da07e6c8",
   "metadata": {},
   "source": [
    "5. Define a function named ```calculate_tip```. It should accept a tip percentage (a number between 0 and 1) and the bill total, and return the amount to tip."
   ]
  },
  {
   "cell_type": "code",
   "execution_count": 27,
   "id": "9c06f019",
   "metadata": {},
   "outputs": [],
   "source": []
  },
  {
   "attachments": {},
   "cell_type": "markdown",
   "id": "ca5119d2",
   "metadata": {},
   "source": [
    "<hr style=\"border:1px solid grey\">"
   ]
  },
  {
   "attachments": {},
   "cell_type": "markdown",
   "id": "e556e8ac",
   "metadata": {},
   "source": [
    "6. Define a function named ```apply_discount```. It should accept a original price, and a discount percentage, and return the price after the discount is applied."
   ]
  },
  {
   "cell_type": "code",
   "execution_count": 29,
   "id": "200cf3ee",
   "metadata": {},
   "outputs": [],
   "source": []
  },
  {
   "attachments": {},
   "cell_type": "markdown",
   "id": "9e1f3f27",
   "metadata": {},
   "source": [
    "<hr style=\"border:1px solid grey\">"
   ]
  },
  {
   "attachments": {},
   "cell_type": "markdown",
   "id": "196a54b0",
   "metadata": {},
   "source": [
    "7. Define a function named ```handle_commas```. It should accept a string that is a number that contains commas in it as input, and return a number as output."
   ]
  },
  {
   "cell_type": "code",
   "execution_count": 31,
   "id": "34f31c6f",
   "metadata": {},
   "outputs": [],
   "source": []
  },
  {
   "attachments": {},
   "cell_type": "markdown",
   "id": "f8a4808c",
   "metadata": {},
   "source": [
    "<hr style=\"border:1px solid grey\">"
   ]
  },
  {
   "attachments": {},
   "cell_type": "markdown",
   "id": "f02ce259",
   "metadata": {},
   "source": [
    "8. Define a function named ```get_letter_grade```. It should accept a number and return the letter grade associated with that number (A-F)."
   ]
  },
  {
   "cell_type": "code",
   "execution_count": 37,
   "id": "ae9a1c0f",
   "metadata": {},
   "outputs": [],
   "source": []
  },
  {
   "attachments": {},
   "cell_type": "markdown",
   "id": "6d5f12bf",
   "metadata": {},
   "source": [
    "<hr style=\"border:1px solid grey\">"
   ]
  },
  {
   "attachments": {},
   "cell_type": "markdown",
   "id": "b4b24a69",
   "metadata": {},
   "source": [
    "9. Define a function named ```remove_vowels``` that accepts a string and returns a string with all the vowels removed."
   ]
  },
  {
   "cell_type": "code",
   "execution_count": 41,
   "id": "b47f5e3d",
   "metadata": {},
   "outputs": [],
   "source": []
  },
  {
   "attachments": {},
   "cell_type": "markdown",
   "id": "575d847a",
   "metadata": {},
   "source": [
    "<hr style=\"border:1px solid grey\">"
   ]
  },
  {
   "attachments": {},
   "cell_type": "markdown",
   "id": "73cae591",
   "metadata": {},
   "source": [
    "10. Define a function named ```normalize_name```. It should accept a string and return a valid python identifier, that is:\n",
    "- anything that is not a valid python identifier should be removed\n",
    "- leading and trailing whitespace should be removed\n",
    "- everything should be lowercase\n",
    "- spaces should be replaced with underscores\n",
    "- for example:\n",
    "    - ```Name``` will become name\n",
    "    - ```First Name``` will become ```first_name```\n",
    "    - ```% Completed``` will become ```completed```"
   ]
  },
  {
   "cell_type": "code",
   "execution_count": 45,
   "id": "c9437608",
   "metadata": {},
   "outputs": [],
   "source": []
  },
  {
   "attachments": {},
   "cell_type": "markdown",
   "id": "4f143263",
   "metadata": {},
   "source": [
    "<hr style=\"border:1px solid grey\">"
   ]
  },
  {
   "attachments": {},
   "cell_type": "markdown",
   "id": "1b162eaf",
   "metadata": {},
   "source": [
    "11. Write a function named cumulative_sum that accepts a list of numbers and returns a list that is the cumulative sum of the numbers in the list.\n",
    "- ```cumulative_sum([1, 1, 1])``` returns ```[1, 2, 3]```\n",
    "- ```cumulative_sum([1, 2, 3, 4])``` returns ```[1, 3, 6, 10]```"
   ]
  },
  {
   "cell_type": "code",
   "execution_count": 53,
   "id": "3e7aedbf",
   "metadata": {},
   "outputs": [],
   "source": []
  }
 ],
 "metadata": {
  "kernelspec": {
   "display_name": "Python 3 (ipykernel)",
   "language": "python",
   "name": "python3"
  },
  "language_info": {
   "codemirror_mode": {
    "name": "ipython",
    "version": 3
   },
   "file_extension": ".py",
   "mimetype": "text/x-python",
   "name": "python",
   "nbconvert_exporter": "python",
   "pygments_lexer": "ipython3",
   "version": "3.10.9"
  }
 },
 "nbformat": 4,
 "nbformat_minor": 5
}
