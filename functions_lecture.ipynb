{
 "cells": [
  {
   "attachments": {},
   "cell_type": "markdown",
   "metadata": {},
   "source": [
    "Functions\n",
    "To run, or invoke a function, we call the function by it's name, followed by a set of parenthesis. Inside the the parenthesis are any arguments.\n",
    "NOTE: Writing the name of the function by itself or without parenthesis will refer to the function itself, as opposed to running it."
   ]
  },
  {
   "cell_type": "code",
   "execution_count": null,
   "metadata": {},
   "outputs": [],
   "source": [
    "# a reference to the max function\n",
    "max"
   ]
  },
  {
   "cell_type": "code",
   "execution_count": null,
   "metadata": {},
   "outputs": [],
   "source": [
    "# calling the max function with 1 argument, a list of numbers\n",
    "max([4, 2, 3, 1])"
   ]
  },
  {
   "attachments": {},
   "cell_type": "markdown",
   "metadata": {},
   "source": [
    "The value our function produces, also called the return value, can be assigned to a variable, or used as an argument to another function"
   ]
  },
  {
   "cell_type": "code",
   "execution_count": null,
   "metadata": {},
   "outputs": [],
   "source": [
    "maximum_number = max([4, 2, 3, 1])\n",
    "print(maximum_number)"
   ]
  },
  {
   "attachments": {},
   "cell_type": "markdown",
   "metadata": {},
   "source": [
    "The return value of the max function is being passed as an argument to the str function"
   ]
  },
  {
   "cell_type": "code",
   "execution_count": null,
   "metadata": {},
   "outputs": [],
   "source": [
    "print('The max is: ' + str(max([4, 2, 3, 1])))"
   ]
  },
  {
   "attachments": {},
   "cell_type": "markdown",
   "metadata": {},
   "source": [
    "Defining Functions\n",
    "In addition to the built-in functions that are part of the Python language, we can define our own functions.\n",
    "A function definition is made up of several parts:\n",
    "\n",
    "* the keyword def\n",
    "* the name of the function\n",
    "* a set of parenthesis that define the parameters (or inputs)\n",
    "* the body of the function (everything that is indented after the first line defining the function)\n",
    "* a return statement inside the body of the function\n",
    " \n",
    "To illustrate this, take a look at a simple function that takes in a number and returns the number plus one."
   ]
  },
  {
   "cell_type": "code",
   "execution_count": null,
   "metadata": {},
   "outputs": [],
   "source": [
    "def increment(n):\n",
    "    return n + 1"
   ]
  },
  {
   "cell_type": "code",
   "execution_count": null,
   "metadata": {},
   "outputs": [],
   "source": [
    "six = increment(increment(increment(3)))\n",
    "\n",
    "print(six)"
   ]
  },
  {
   "attachments": {},
   "cell_type": "markdown",
   "metadata": {},
   "source": [
    "The first line is evaluated \"inside-out\", that is:\n",
    "\n",
    "The increment function is called with the integer literal 3\n",
    "The output of the first call to the increment function is passed as an argument again to increment function. At this point, we are calling increment with 4\n",
    "The output from the previous step is again passed in to the increment function.\n",
    "Finally, the output from the last call to the increment function is assigned to the variable six\n",
    "We can imagine the code executing like this:"
   ]
  },
  {
   "cell_type": "code",
   "execution_count": null,
   "metadata": {},
   "outputs": [],
   "source": [
    "six = increment(increment(increment(3)))\n",
    "six = increment(increment(4))\n",
    "six = increment(5)\n",
    "six = 6"
   ]
  },
  {
   "cell_type": "code",
   "execution_count": null,
   "metadata": {},
   "outputs": [],
   "source": [
    "def increment(n):\n",
    "    return n + 1\n",
    "    print('You will never see this')\n",
    "    return n + 1\n",
    "increment(3)"
   ]
  },
  {
   "attachments": {},
   "cell_type": "markdown",
   "metadata": {},
   "source": [
    "When a return statement is encountered, the function will immediately return to where it is called. Put another way: a function only ever execute one return statement, and when a return statement is reached, no more code in the function will be executed.\n",
    "\n",
    "Arguments / Parameters\n",
    "We have been using these terms already, but, formally:\n",
    "\n",
    "an argument is the value a function is called with\n",
    "a parameter is part of a function's definition; a placeholder for an argument\n",
    "You can think of parameters as a special kind of variable that takes on the value of the function's arguments each time it is called."
   ]
  },
  {
   "cell_type": "code",
   "execution_count": null,
   "metadata": {},
   "outputs": [],
   "source": [
    "def add(a, b):\n",
    "    result = a + b\n",
    "    return result\n",
    "\n",
    "x = 3\n",
    "seven = add(x, 4)"
   ]
  },
  {
   "attachments": {},
   "cell_type": "markdown",
   "metadata": {},
   "source": [
    "Here a and b are the parameters of the add function.\n",
    "On the last line above, when the function is called, the arguments are the value of the variable x, and 4.\n",
    "All of our examples thus far have contained both inputs and outputs, but these are actually both optional."
   ]
  },
  {
   "cell_type": "code",
   "execution_count": null,
   "metadata": {},
   "outputs": [],
   "source": [
    "def shout(message):\n",
    "    print(message.upper() + '!!!')\n",
    "\n",
    "return_value = shout('hey there')\n",
    "print(return_value)"
   ]
  },
  {
   "attachments": {},
   "cell_type": "markdown",
   "metadata": {},
   "source": [
    "Here the shout function does not have a return value, and when we try to store it in a variable and print it, we see that the special value None is produced (recall that None indicates the absence of a value)."
   ]
  },
  {
   "cell_type": "code",
   "execution_count": null,
   "metadata": {},
   "outputs": [],
   "source": [
    "def sayhello():\n",
    "    print('Hey there!')\n",
    "\n",
    "sayhello()"
   ]
  },
  {
   "attachments": {},
   "cell_type": "markdown",
   "metadata": {},
   "source": [
    "Here the sayhello function takes in no inputs and produces no outputs. In fact, it would be an error to call this function with any arguments:"
   ]
  },
  {
   "cell_type": "code",
   "execution_count": null,
   "metadata": {},
   "outputs": [],
   "source": [
    "sayhello(123)"
   ]
  },
  {
   "attachments": {},
   "cell_type": "markdown",
   "metadata": {},
   "source": [
    "Default Values\n",
    "Functions can define default values for parameters, which allows you to either specify the argument or leave it out when the function is called."
   ]
  },
  {
   "cell_type": "code",
   "execution_count": null,
   "metadata": {},
   "outputs": [],
   "source": [
    "def sayhello(name='World', greeting='Hello'):\n",
    "    return '{}, {}!'.format(greeting, name)"
   ]
  },
  {
   "attachments": {},
   "cell_type": "markdown",
   "metadata": {},
   "source": [
    "This function can be called with no arguments, and the specified default values will be used, or we can expliciltly pass a name, or a name and a greeting."
   ]
  },
  {
   "cell_type": "code",
   "execution_count": null,
   "metadata": {},
   "outputs": [],
   "source": [
    "sayhello()"
   ]
  },
  {
   "cell_type": "code",
   "execution_count": null,
   "metadata": {},
   "outputs": [],
   "source": [
    "sayhello('Codeup')"
   ]
  },
  {
   "cell_type": "code",
   "execution_count": null,
   "metadata": {},
   "outputs": [],
   "source": [
    "sayhello('Codeup', 'Salutations')"
   ]
  },
  {
   "attachments": {},
   "cell_type": "markdown",
   "metadata": {},
   "source": [
    "Keyword Arguments\n",
    "Thus far, we have seen examples of functions that rely on positional arguments. Which string was assigned to name and which string was assigned to greeting depended on the position of the arguments, that is, which one was specified first and which one was second.\n",
    "\n",
    "We can also specify arguments by their name."
   ]
  },
  {
   "cell_type": "code",
   "execution_count": null,
   "metadata": {},
   "outputs": [],
   "source": [
    "sayhello(greeting='Salutations', name='Codeup')"
   ]
  },
  {
   "attachments": {},
   "cell_type": "markdown",
   "metadata": {},
   "source": [
    "When arguments are specified in this way we say they are keyword arguments, and their order does not matter. The only restriction is that keyword arguments must come after any positional arguments."
   ]
  },
  {
   "cell_type": "code",
   "execution_count": null,
   "metadata": {},
   "outputs": [],
   "source": [
    "sayhello('Codeup', greeting='Salutations') # Okay"
   ]
  },
  {
   "cell_type": "code",
   "execution_count": null,
   "metadata": {},
   "outputs": [],
   "source": [
    "sayhello(greeting='Salutations', 'Codeup') # ERROR!"
   ]
  },
  {
   "attachments": {},
   "cell_type": "markdown",
   "metadata": {},
   "source": [
    "Calling Functions\n",
    "Python provides a way to unpack either a list or a dictionary to use them as function arguments."
   ]
  },
  {
   "cell_type": "code",
   "execution_count": null,
   "metadata": {},
   "outputs": [],
   "source": [
    "args = ['Codeup', 'Salutations']\n",
    "\n",
    "sayhello(*args)"
   ]
  },
  {
   "attachments": {},
   "cell_type": "markdown",
   "metadata": {},
   "source": [
    "Using the * operator in front of a list makes as though we had used each element in the list as an argument to the function. The order of the elements in the list will be the order that they are passed as positional arguments to the function.\n",
    "\n",
    "Similarly, we can unpack a dictionary to use it's values as keyword arguments to a function using the ** operator."
   ]
  },
  {
   "cell_type": "code",
   "execution_count": null,
   "metadata": {},
   "outputs": [],
   "source": [
    "kwargs = {'greeting': 'Salutations', 'name': 'Codeup'}\n",
    "\n",
    "sayhello(**kwargs)"
   ]
  },
  {
   "attachments": {},
   "cell_type": "markdown",
   "metadata": {},
   "source": [
    "Function Scope\n",
    "Variables created inside of a function are local variables and are only in scope of the function they are defined in. Variables created outside of functions are global variables and are accessible inside of any function."
   ]
  },
  {
   "cell_type": "code",
   "execution_count": null,
   "metadata": {},
   "outputs": [],
   "source": [
    "a_global_variable = 42\n",
    "\n",
    "def somefunction():\n",
    "    print('Inside the function: %s' % a_global_variable)\n",
    "\n",
    "somefunction()\n",
    "print('Outside the function: %s' % a_global_variable)"
   ]
  },
  {
   "attachments": {},
   "cell_type": "markdown",
   "metadata": {},
   "source": [
    "but variables defined within a function are only available in the function body:"
   ]
  },
  {
   "cell_type": "code",
   "execution_count": null,
   "metadata": {},
   "outputs": [],
   "source": [
    "def somefunction():\n",
    "    a_local_variable = 'pizza'\n",
    "    print('Inside the function: %s' % a_local_variable)\n",
    "\n",
    "somefunction()\n",
    "print('Outside the function: %s' % a_local_variable)"
   ]
  },
  {
   "attachments": {},
   "cell_type": "markdown",
   "metadata": {},
   "source": [
    "When we try to print \"a_local_variable\" outside the function, it is no longer in-scope, and we get an error saying that the variable is not defined.\n",
    "\n",
    "We can also define a local variable with the same name as a local variable. This is called shadowing. Under these circumstances, inside the function in which it is defined, the name will refer to the local variable, but the global variable will remain unchanged."
   ]
  },
  {
   "cell_type": "code",
   "execution_count": null,
   "metadata": {},
   "outputs": [],
   "source": [
    "n = 123\n",
    "\n",
    "def somefunction():\n",
    "    n = 10\n",
    "    n = n - 3\n",
    "    print('Inside the function, n == %s' % n)\n",
    "\n",
    "print('Outside the function, n == %s' % n)\n",
    "somefunction()\n",
    "print('Outside the function, n == %s' % n)"
   ]
  },
  {
   "attachments": {},
   "cell_type": "markdown",
   "metadata": {},
   "source": [
    "Lambda Functions\n",
    "For functions that contain a single return statement in the function body, python provides a lamdba function. This is a function that accepts 0 or more inputs, and only executes a single return statement (note the return keyword is implied and not required).\n",
    "\n",
    "Here are some examples of lambda functions:"
   ]
  },
  {
   "cell_type": "code",
   "execution_count": null,
   "metadata": {},
   "outputs": [],
   "source": [
    "add_one = lambda n: n + 1\n",
    "add_one(9)"
   ]
  },
  {
   "cell_type": "code",
   "execution_count": null,
   "metadata": {},
   "outputs": [],
   "source": [
    "square = lambda n: n ** 2\n",
    "square(9)"
   ]
  }
 ],
 "metadata": {
  "kernelspec": {
   "display_name": "base",
   "language": "python",
   "name": "python3"
  },
  "language_info": {
   "codemirror_mode": {
    "name": "ipython",
    "version": 3
   },
   "file_extension": ".py",
   "mimetype": "text/x-python",
   "name": "python",
   "nbconvert_exporter": "python",
   "pygments_lexer": "ipython3",
   "version": "3.10.9"
  },
  "orig_nbformat": 4
 },
 "nbformat": 4,
 "nbformat_minor": 2
}
