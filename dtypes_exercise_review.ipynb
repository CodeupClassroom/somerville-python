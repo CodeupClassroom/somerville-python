{
 "cells": [
  {
   "cell_type": "markdown",
   "id": "c60ad07e",
   "metadata": {},
   "source": [
    "1. Identify the data type of the following values:"
   ]
  },
  {
   "cell_type": "code",
   "execution_count": 1,
   "id": "28a4448f",
   "metadata": {},
   "outputs": [
    {
     "data": {
      "text/plain": [
       "(float, str, bool, str, int)"
      ]
     },
     "execution_count": 1,
     "metadata": {},
     "output_type": "execute_result"
    }
   ],
   "source": [
    "type(99.9), type(\"False\"), type(False), type('0'), type(0)"
   ]
  },
  {
   "cell_type": "code",
   "execution_count": 2,
   "id": "17919500",
   "metadata": {},
   "outputs": [
    {
     "data": {
      "text/plain": [
       "(bool, str, list, dict)"
      ]
     },
     "execution_count": 2,
     "metadata": {},
     "output_type": "execute_result"
    }
   ],
   "source": [
    "type(True), type('True'), type([{}]), type({'a': []})"
   ]
  },
  {
   "cell_type": "markdown",
   "id": "ae9f0364",
   "metadata": {},
   "source": [
    "2. What data type would best represent the following?\n",
    "\n",
    "- A term or phrase typed into a search box - string\n",
    "- Whether or not a user is logged in - bool\n",
    "- A discount amount to apply to a user's shopping cart - int/float\n",
    "- Whether or not a coupon code is valid - bool\n",
    "- An email address typed into a registration form - string\n",
    "- The price of a product - int/float\n",
    "- The email addresses collected from a registration form - list\n",
    "- Information about applicants to Codeup's data science program - dictionary"
   ]
  },
  {
   "cell_type": "markdown",
   "id": "ca76fd8a",
   "metadata": {},
   "source": [
    "5. You have rented some movies for your kids:\n",
    "\n",
    "- The Little Mermaid for 3 days\n",
    "- Brother Bear for 5 days\n",
    "- Hercules for 1 day\n",
    "- If the daily fee to rent a movie is 3 dollars, how much will you have to pay?"
   ]
  },
  {
   "cell_type": "code",
   "execution_count": 15,
   "id": "d8586dbf",
   "metadata": {},
   "outputs": [
    {
     "data": {
      "text/plain": [
       "27"
      ]
     },
     "execution_count": 15,
     "metadata": {},
     "output_type": "execute_result"
    }
   ],
   "source": [
    "mermaid = 3\n",
    "bbear = 5\n",
    "hercules = 1\n",
    "daily_fee = 3\n",
    "\n",
    "total_cost = (mermaid + bbear + hercules) * daily_fee\n",
    "total_cost"
   ]
  },
  {
   "cell_type": "markdown",
   "id": "d9969389",
   "metadata": {},
   "source": [
    "6. Suppose you're working as a contractor for 3 companies: Google, Amazon and Facebook.\n",
    "\n",
    "They pay you the following hourly rates:\n",
    "\n",
    "- Google: 400 dollars\n",
    "- Amazon: 380 dollars\n",
    "- Facebook: 350 dollars\n",
    "\n",
    "This week you worked: 10 hours for Facebook, 6 hours for Google and 4 hours for Amazon.\n",
    "\n",
    "How much will you receive in payment for this week?"
   ]
  },
  {
   "cell_type": "code",
   "execution_count": 12,
   "id": "3f2bdce8",
   "metadata": {},
   "outputs": [
    {
     "data": {
      "text/plain": [
       "7420"
      ]
     },
     "execution_count": 12,
     "metadata": {},
     "output_type": "execute_result"
    }
   ],
   "source": [
    "google = 400\n",
    "amazon = 380\n",
    "facebook = 350\n",
    "\n",
    "payment = 10 * facebook + 6 * google + 4 * amazon\n",
    "payment"
   ]
  },
  {
   "cell_type": "markdown",
   "id": "3165f060",
   "metadata": {},
   "source": [
    "7. A student can be enrolled to a class only if the class is not full and the class schedule does not conflict with her current schedule."
   ]
  },
  {
   "cell_type": "code",
   "execution_count": 25,
   "id": "f4e92365",
   "metadata": {},
   "outputs": [
    {
     "data": {
      "text/plain": [
       "False"
      ]
     },
     "execution_count": 25,
     "metadata": {},
     "output_type": "execute_result"
    }
   ],
   "source": [
    "class_open = True\n",
    "no_conflict = False\n",
    "\n",
    "can_enroll = class_open and no_conflict\n",
    "can_enroll"
   ]
  },
  {
   "cell_type": "markdown",
   "id": "1b8781b2",
   "metadata": {},
   "source": [
    "8. A product offer can be applied only if people buys more than 2 items, and the offer has not expired. Premium members do not need to buy a specific amount of products."
   ]
  },
  {
   "cell_type": "code",
   "execution_count": 27,
   "id": "c49e0dc2",
   "metadata": {},
   "outputs": [
    {
     "data": {
      "text/plain": [
       "False"
      ]
     },
     "execution_count": 27,
     "metadata": {},
     "output_type": "execute_result"
    }
   ],
   "source": [
    "items_purchased = 1\n",
    "not_expired = True\n",
    "premium_member = False\n",
    "\n",
    "product_offer = (items_purchased > 2 or premium_member) and not_expired\n",
    "product_offer"
   ]
  },
  {
   "cell_type": "markdown",
   "id": "b3f6e2ca",
   "metadata": {},
   "source": [
    "9. Continue working in the data_types_and_variables.py file. Use the following code to follow the instructions below:\n",
    "\n",
    "Create a variable that holds a boolean value for each of the following conditions:\n",
    "\n",
    "- The password must be at least 5 characters\n",
    "- The username must be no more than 20 characters\n",
    "- The password must not be the same as the username"
   ]
  },
  {
   "cell_type": "code",
   "execution_count": 8,
   "id": "62a4d25d",
   "metadata": {},
   "outputs": [],
   "source": [
    "username = 'codeup'\n",
    "password = 'notastrongpassword'"
   ]
  },
  {
   "cell_type": "code",
   "execution_count": 10,
   "id": "0b5a5411",
   "metadata": {},
   "outputs": [
    {
     "data": {
      "text/plain": [
       "(True, True, True)"
      ]
     },
     "execution_count": 10,
     "metadata": {},
     "output_type": "execute_result"
    }
   ],
   "source": [
    "long_pass = len(password) >= 5\n",
    "short_user = len(username) <= 20\n",
    "not_same = username != password\n",
    "long_pass, short_user, not_same"
   ]
  },
  {
   "cell_type": "code",
   "execution_count": 11,
   "id": "d07173dd",
   "metadata": {},
   "outputs": [
    {
     "data": {
      "text/plain": [
       "(True, True)"
      ]
     },
     "execution_count": 11,
     "metadata": {},
     "output_type": "execute_result"
    }
   ],
   "source": [
    "user_space = username == username.strip()\n",
    "pass_space = password == password.strip()\n",
    "user_space, pass_space"
   ]
  },
  {
   "cell_type": "code",
   "execution_count": null,
   "id": "06bc091b",
   "metadata": {},
   "outputs": [],
   "source": []
  }
 ],
 "metadata": {
  "kernelspec": {
   "display_name": "Python 3 (ipykernel)",
   "language": "python",
   "name": "python3"
  },
  "language_info": {
   "codemirror_mode": {
    "name": "ipython",
    "version": 3
   },
   "file_extension": ".py",
   "mimetype": "text/x-python",
   "name": "python",
   "nbconvert_exporter": "python",
   "pygments_lexer": "ipython3",
   "version": "3.9.12"
  }
 },
 "nbformat": 4,
 "nbformat_minor": 5
}
