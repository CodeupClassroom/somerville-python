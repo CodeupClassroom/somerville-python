{
 "cells": [
  {
   "cell_type": "markdown",
   "id": "f4477ab5",
   "metadata": {},
   "source": [
    "# Import Exercises"
   ]
  },
  {
   "cell_type": "markdown",
   "id": "fd3f901d",
   "metadata": {},
   "source": [
    "1. Import and test 3 of the functions from your functions exercise file. Import each function in a different way:\n",
    "\n",
    "- a. Run an interactive python session and import the module. Call the is_vowel function using the . syntax.\n",
    "- b. Create a file named import_exericses.py. Within this file, use from to import the calculate_tip function directly. Call this function with values you choose and print the result.\n",
    "- c. Create a jupyter notebook named import_exercises.ipynb. Use from to import the get_letter_grade function and give it an alias. Test this function in your notebook.\n",
    "\n",
    "Make sure your code that tests the function imports is run from the same directory that your functions exercise file is in.\n",
    "\n",
    "2. Read about and use the ```itertools``` module from the python standard library to help you solve the following problems. Note: Many of these functions in this library return an object, to see the results of the function, cast this object as a list.\n",
    "\n",
    "- a. How many different ways can you combine a single letter from \"abc\" with either 1, 2, or 3?\n",
    "- b. How many different combinations are there of 2 letters from \"abcd\"?\n",
    "- c. How many different permutations are there of 2 letters from \"abcd\"?\n",
    "\n",
    "3. Save this file as ```profiles.json``` inside of your exercises directory (right click -> save file as...).\n",
    "\n",
    "Use the ```load``` function from the ```json``` module to open this file.\n",
    "\n",
    "Your code should produce a list of dictionaries. Using this data, write some code that calculates and outputs the following information:\n",
    "\n",
    "- a. Total number of users\n",
    "- b. Number of active users\n",
    "- c. Number of inactive users\n",
    "- d. Grand total of balances for all users\n",
    "- e. Average balance per user\n",
    "- f. User with the lowest balance\n",
    "- g. User with the highest balance\n",
    "- h. Most common favorite fruit\n",
    "- i. Least most common favorite fruit\n",
    "- j. Total number of unread messages for all users"
   ]
  },
  {
   "cell_type": "markdown",
   "id": "cd276afd",
   "metadata": {},
   "source": [
    "<b> #1. Import and test 3 of the functions from your functions exercise file. Import each function in a different way:"
   ]
  },
  {
   "cell_type": "code",
   "execution_count": 1,
   "id": "c76fb89a",
   "metadata": {},
   "outputs": [],
   "source": [
    "import function_exercises"
   ]
  },
  {
   "cell_type": "markdown",
   "id": "38efccd9",
   "metadata": {},
   "source": [
    "<b>1a. Run an interactive python session and import the module. Call the ```is_vowel``` function using the ```.``` syntax."
   ]
  },
  {
   "cell_type": "code",
   "execution_count": 2,
   "id": "26aa0aa6",
   "metadata": {},
   "outputs": [
    {
     "data": {
      "text/plain": [
       "True"
      ]
     },
     "execution_count": 2,
     "metadata": {},
     "output_type": "execute_result"
    }
   ],
   "source": [
    "function_exercises.is_vowel('a')"
   ]
  },
  {
   "cell_type": "markdown",
   "id": "49faf721",
   "metadata": {},
   "source": [
    "<b>1b. Create a file named ```import_exericses.py```. Within this file, use ```from``` to import the ```calculate_tip``` function directly. Call this function with values you choose and print the result."
   ]
  },
  {
   "cell_type": "code",
   "execution_count": 4,
   "id": "17048ffa",
   "metadata": {},
   "outputs": [],
   "source": [
    "from function_exercises import calculate_tip"
   ]
  },
  {
   "cell_type": "markdown",
   "id": "cb16e2cc",
   "metadata": {},
   "source": [
    "<b>1c. Create a jupyter notebook named import_exercises.ipynb. Use ```from``` to import the ```get_letter_grade``` function and give it an alias. Test this function in your notebook."
   ]
  },
  {
   "cell_type": "code",
   "execution_count": 5,
   "id": "25d09aea",
   "metadata": {},
   "outputs": [],
   "source": [
    "from function_exercises import get_letter_grade as lg"
   ]
  },
  {
   "cell_type": "markdown",
   "id": "a366abca",
   "metadata": {},
   "source": [
    "<b> #2. Read about and use the ```itertools``` module from the python standard library to help you solve the following problems. Note: Many of these functions in this library return an object, to see the results of the function, cast this object as a list."
   ]
  },
  {
   "cell_type": "code",
   "execution_count": 6,
   "id": "8ae38448",
   "metadata": {},
   "outputs": [],
   "source": [
    "import itertools as it"
   ]
  },
  {
   "cell_type": "markdown",
   "id": "8e8dca9b",
   "metadata": {},
   "source": [
    "<b>2a.How many different ways can you combine a single letter from \"abc\" with either 1, 2, or 3?"
   ]
  },
  {
   "cell_type": "code",
   "execution_count": 8,
   "id": "10148d7c",
   "metadata": {},
   "outputs": [
    {
     "data": {
      "text/plain": [
       "9"
      ]
     },
     "execution_count": 8,
     "metadata": {},
     "output_type": "execute_result"
    }
   ],
   "source": [
    "len(list(it.product('abc','123')))"
   ]
  },
  {
   "cell_type": "markdown",
   "id": "ebfff53d",
   "metadata": {},
   "source": [
    "<b>2b. How many different combinations are there of 2 letters from \"abcd\"?"
   ]
  },
  {
   "cell_type": "code",
   "execution_count": 10,
   "id": "cf24a63c",
   "metadata": {},
   "outputs": [
    {
     "data": {
      "text/plain": [
       "6"
      ]
     },
     "execution_count": 10,
     "metadata": {},
     "output_type": "execute_result"
    }
   ],
   "source": [
    "len(list(it.combinations('abcd', 2)))"
   ]
  },
  {
   "cell_type": "markdown",
   "id": "ddc3eb1f",
   "metadata": {},
   "source": [
    "<b>2c.How many different permutations are there of 2 letters from \"abcd\"?"
   ]
  },
  {
   "cell_type": "code",
   "execution_count": 12,
   "id": "1c34c516",
   "metadata": {},
   "outputs": [
    {
     "data": {
      "text/plain": [
       "12"
      ]
     },
     "execution_count": 12,
     "metadata": {},
     "output_type": "execute_result"
    }
   ],
   "source": [
    "len(list(it.permutations('abcd', 2)))"
   ]
  },
  {
   "cell_type": "markdown",
   "id": "de2537ac",
   "metadata": {},
   "source": [
    "<b> #3. Save this file as ```profiles.json``` inside of your exercises directory (right click -> save file as...)."
   ]
  },
  {
   "cell_type": "markdown",
   "id": "b42c53f0",
   "metadata": {},
   "source": [
    "Use the ```load``` function from the json module to open this file."
   ]
  },
  {
   "cell_type": "code",
   "execution_count": 14,
   "id": "c3d06ed9",
   "metadata": {},
   "outputs": [],
   "source": [
    "import json\n",
    "\n",
    "profiles = json.load(open('profiles.json'))"
   ]
  },
  {
   "cell_type": "code",
   "execution_count": null,
   "id": "32be40f3",
   "metadata": {},
   "outputs": [],
   "source": [
    "print(profiles)"
   ]
  },
  {
   "cell_type": "markdown",
   "id": "1a881eeb",
   "metadata": {},
   "source": [
    "Your code should produce a list of dictionaries. Using this data, write some code that calculates and outputs the following information:"
   ]
  },
  {
   "cell_type": "markdown",
   "id": "b6909faf",
   "metadata": {},
   "source": [
    "<b>3a. Total number of users"
   ]
  },
  {
   "cell_type": "code",
   "execution_count": 16,
   "id": "0c0150e1",
   "metadata": {},
   "outputs": [
    {
     "data": {
      "text/plain": [
       "19"
      ]
     },
     "execution_count": 16,
     "metadata": {},
     "output_type": "execute_result"
    }
   ],
   "source": [
    "len(profiles)"
   ]
  },
  {
   "cell_type": "markdown",
   "id": "10b5554e",
   "metadata": {},
   "source": [
    "<b>3b. Number of active users"
   ]
  },
  {
   "cell_type": "code",
   "execution_count": 17,
   "id": "f33d85e9",
   "metadata": {},
   "outputs": [
    {
     "name": "stdout",
     "output_type": "stream",
     "text": [
      "9\n"
     ]
    }
   ],
   "source": [
    "count = 0\n",
    "\n",
    "for profile in profiles:\n",
    "    if profile['isActive'] == True:\n",
    "        count += 1\n",
    "\n",
    "print(count)"
   ]
  },
  {
   "cell_type": "markdown",
   "id": "61aa2d94",
   "metadata": {},
   "source": [
    "<b>3c. Number of inactive users"
   ]
  },
  {
   "cell_type": "code",
   "execution_count": 18,
   "id": "e375dbd1",
   "metadata": {},
   "outputs": [
    {
     "name": "stdout",
     "output_type": "stream",
     "text": [
      "10\n"
     ]
    }
   ],
   "source": [
    "count = 0\n",
    "\n",
    "for profile in profiles:\n",
    "    if profile['isActive'] == False:\n",
    "        count += 1\n",
    "\n",
    "print(count)"
   ]
  },
  {
   "cell_type": "markdown",
   "id": "9b8f9eef",
   "metadata": {},
   "source": [
    "<b>3d. Grand total of balances for all users"
   ]
  },
  {
   "cell_type": "code",
   "execution_count": 22,
   "id": "fb4c4def",
   "metadata": {},
   "outputs": [
    {
     "name": "stdout",
     "output_type": "stream",
     "text": [
      "52667.02\n"
     ]
    }
   ],
   "source": [
    "total = 0\n",
    "\n",
    "for profile in profiles:\n",
    "    profile_balance = float(profile['balance'].strip('$').replace(',',''))\n",
    "    total += profile_balance\n",
    "\n",
    "print(total)"
   ]
  },
  {
   "cell_type": "markdown",
   "id": "4cb80c2a",
   "metadata": {},
   "source": [
    "<b>3e. Average balance per user"
   ]
  },
  {
   "cell_type": "code",
   "execution_count": 24,
   "id": "aa8b7581",
   "metadata": {},
   "outputs": [
    {
     "data": {
      "text/plain": [
       "2771.95"
      ]
     },
     "execution_count": 24,
     "metadata": {},
     "output_type": "execute_result"
    }
   ],
   "source": [
    "round(total/len(profiles), 2)"
   ]
  },
  {
   "cell_type": "markdown",
   "id": "00cc4ead",
   "metadata": {},
   "source": [
    "<b>3f. User with the lowest balance"
   ]
  },
  {
   "cell_type": "code",
   "execution_count": 29,
   "id": "389392f9",
   "metadata": {},
   "outputs": [
    {
     "name": "stdout",
     "output_type": "stream",
     "text": [
      "Avery Flynn 1214.1\n"
     ]
    }
   ],
   "source": [
    "balance_list = []\n",
    "\n",
    "for profile in profiles:\n",
    "    profile_balance = float(profile['balance'].strip('$').replace(',',''))\n",
    "    balance_list.append(profile_balance)\n",
    "\n",
    "min(balance_list)\n",
    "\n",
    "for profile in profiles:\n",
    "    if float(profile['balance'].strip('$').replace(',','')) == min(balance_list):\n",
    "        print(profile['name'], min(balance_list))"
   ]
  },
  {
   "cell_type": "markdown",
   "id": "1139f73a",
   "metadata": {},
   "source": [
    "<b>3g. User with the highest balance"
   ]
  },
  {
   "cell_type": "code",
   "execution_count": 31,
   "id": "5227ed4e",
   "metadata": {},
   "outputs": [
    {
     "name": "stdout",
     "output_type": "stream",
     "text": [
      "Fay Hammond 3919.64\n"
     ]
    }
   ],
   "source": [
    "max(balance_list)\n",
    "\n",
    "for profile in profiles:\n",
    "    if float(profile['balance'].strip('$').replace(',','')) == max(balance_list):\n",
    "        print(profile['name'], max(balance_list))"
   ]
  },
  {
   "cell_type": "markdown",
   "id": "a538017e",
   "metadata": {},
   "source": [
    "<b>3h. Most common favorite fruit"
   ]
  },
  {
   "cell_type": "code",
   "execution_count": 51,
   "id": "b145825e",
   "metadata": {},
   "outputs": [
    {
     "name": "stdout",
     "output_type": "stream",
     "text": [
      "['strawberry', 'apple', 'apple', 'banana', 'apple', 'apple', 'banana', 'strawberry', 'strawberry', 'banana', 'strawberry', 'strawberry', 'apple', 'strawberry', 'strawberry', 'banana', 'strawberry', 'apple', 'strawberry']\n",
      "6\n",
      "9\n",
      "4\n"
     ]
    }
   ],
   "source": [
    "fruit_list = []\n",
    "\n",
    "for profile in profiles:\n",
    "    fruit_list.append(profile['favoriteFruit'])\n",
    "\n",
    "print(fruit_list)\n",
    "\n",
    "max((fruit_list), key = fruit_list.count)\n",
    "\n",
    "print(fruit_list.count('apple'))\n",
    "print(fruit_list.count('strawberry'))\n",
    "print(fruit_list.count('banana'))"
   ]
  },
  {
   "cell_type": "markdown",
   "id": "52376189",
   "metadata": {},
   "source": [
    "<b>3i. Least most common favorite fruit"
   ]
  },
  {
   "cell_type": "code",
   "execution_count": 45,
   "id": "ff1e08c5",
   "metadata": {},
   "outputs": [
    {
     "data": {
      "text/plain": [
       "'banana'"
      ]
     },
     "execution_count": 45,
     "metadata": {},
     "output_type": "execute_result"
    }
   ],
   "source": [
    "min((fruit_list), key = fruit_list.count)"
   ]
  },
  {
   "cell_type": "markdown",
   "id": "53dd978c",
   "metadata": {},
   "source": [
    "<b>3j. Total number of unread messages for all users"
   ]
  },
  {
   "cell_type": "code",
   "execution_count": 55,
   "id": "b62a97de",
   "metadata": {},
   "outputs": [
    {
     "name": "stdout",
     "output_type": "stream",
     "text": [
      "210\n"
     ]
    }
   ],
   "source": [
    "total_messages = 0\n",
    "\n",
    "for profile in profiles:\n",
    "    #print(profile['greeting'])\n",
    "    message = profile['greeting'].split(' ')\n",
    "    for word in message:\n",
    "        if word.isdigit():\n",
    "            total_messages += int(word)\n",
    "\n",
    "print(total_messages)"
   ]
  }
 ],
 "metadata": {
  "kernelspec": {
   "display_name": "Python 3 (ipykernel)",
   "language": "python",
   "name": "python3"
  },
  "language_info": {
   "codemirror_mode": {
    "name": "ipython",
    "version": 3
   },
   "file_extension": ".py",
   "mimetype": "text/x-python",
   "name": "python",
   "nbconvert_exporter": "python",
   "pygments_lexer": "ipython3",
   "version": "3.10.9"
  }
 },
 "nbformat": 4,
 "nbformat_minor": 5
}
